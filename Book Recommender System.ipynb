{
 "cells": [
  {
   "cell_type": "markdown",
   "id": "7be94092",
   "metadata": {},
   "source": [
    "## collaborative based recommender"
   ]
  },
  {
   "cell_type": "code",
   "execution_count": 1,
   "id": "bd862bdd",
   "metadata": {},
   "outputs": [],
   "source": [
    "# Importing necessary library\n",
    "import pandas as pd\n",
    "import numpy as np\n",
    "import matplotlib.pyplot as plt\n",
    "import seaborn as sns"
   ]
  },
  {
   "cell_type": "code",
   "execution_count": 2,
   "id": "4a68b5ff",
   "metadata": {},
   "outputs": [
    {
     "name": "stderr",
     "output_type": "stream",
     "text": [
      "C:\\Users\\nayan\\AppData\\Local\\Temp\\ipykernel_18692\\3634117754.py:1: FutureWarning: The error_bad_lines argument has been deprecated and will be removed in a future version. Use on_bad_lines in the future.\n",
      "\n",
      "\n",
      "  books = pd.read_csv('books.csv', sep=\";\", error_bad_lines=False, encoding='latin-1')\n",
      "b'Skipping line 6452: expected 8 fields, saw 9\\nSkipping line 43667: expected 8 fields, saw 10\\nSkipping line 51751: expected 8 fields, saw 9\\n'\n",
      "b'Skipping line 92038: expected 8 fields, saw 9\\nSkipping line 104319: expected 8 fields, saw 9\\nSkipping line 121768: expected 8 fields, saw 9\\n'\n",
      "b'Skipping line 144058: expected 8 fields, saw 9\\nSkipping line 150789: expected 8 fields, saw 9\\nSkipping line 157128: expected 8 fields, saw 9\\nSkipping line 180189: expected 8 fields, saw 9\\nSkipping line 185738: expected 8 fields, saw 9\\n'\n",
      "b'Skipping line 209388: expected 8 fields, saw 9\\nSkipping line 220626: expected 8 fields, saw 9\\nSkipping line 227933: expected 8 fields, saw 11\\nSkipping line 228957: expected 8 fields, saw 10\\nSkipping line 245933: expected 8 fields, saw 9\\nSkipping line 251296: expected 8 fields, saw 9\\nSkipping line 259941: expected 8 fields, saw 9\\nSkipping line 261529: expected 8 fields, saw 9\\n'\n",
      "C:\\Users\\nayan\\AppData\\Local\\Temp\\ipykernel_18692\\3634117754.py:1: DtypeWarning: Columns (3) have mixed types. Specify dtype option on import or set low_memory=False.\n",
      "  books = pd.read_csv('books.csv', sep=\";\", error_bad_lines=False, encoding='latin-1')\n"
     ]
    }
   ],
   "source": [
    "books = pd.read_csv('books.csv', sep=\";\", error_bad_lines=False, encoding='latin-1')"
   ]
  },
  {
   "cell_type": "code",
   "execution_count": 3,
   "id": "ccd46720",
   "metadata": {},
   "outputs": [
    {
     "data": {
      "text/html": [
       "<div>\n",
       "<style scoped>\n",
       "    .dataframe tbody tr th:only-of-type {\n",
       "        vertical-align: middle;\n",
       "    }\n",
       "\n",
       "    .dataframe tbody tr th {\n",
       "        vertical-align: top;\n",
       "    }\n",
       "\n",
       "    .dataframe thead th {\n",
       "        text-align: right;\n",
       "    }\n",
       "</style>\n",
       "<table border=\"1\" class=\"dataframe\">\n",
       "  <thead>\n",
       "    <tr style=\"text-align: right;\">\n",
       "      <th></th>\n",
       "      <th>ISBN</th>\n",
       "      <th>Book-Title</th>\n",
       "      <th>Book-Author</th>\n",
       "      <th>Year-Of-Publication</th>\n",
       "      <th>Publisher</th>\n",
       "      <th>Image-URL-S</th>\n",
       "      <th>Image-URL-M</th>\n",
       "      <th>Image-URL-L</th>\n",
       "    </tr>\n",
       "  </thead>\n",
       "  <tbody>\n",
       "    <tr>\n",
       "      <th>0</th>\n",
       "      <td>0195153448</td>\n",
       "      <td>Classical Mythology</td>\n",
       "      <td>Mark P. O. Morford</td>\n",
       "      <td>2002</td>\n",
       "      <td>Oxford University Press</td>\n",
       "      <td>http://images.amazon.com/images/P/0195153448.0...</td>\n",
       "      <td>http://images.amazon.com/images/P/0195153448.0...</td>\n",
       "      <td>http://images.amazon.com/images/P/0195153448.0...</td>\n",
       "    </tr>\n",
       "    <tr>\n",
       "      <th>1</th>\n",
       "      <td>0002005018</td>\n",
       "      <td>Clara Callan</td>\n",
       "      <td>Richard Bruce Wright</td>\n",
       "      <td>2001</td>\n",
       "      <td>HarperFlamingo Canada</td>\n",
       "      <td>http://images.amazon.com/images/P/0002005018.0...</td>\n",
       "      <td>http://images.amazon.com/images/P/0002005018.0...</td>\n",
       "      <td>http://images.amazon.com/images/P/0002005018.0...</td>\n",
       "    </tr>\n",
       "    <tr>\n",
       "      <th>2</th>\n",
       "      <td>0060973129</td>\n",
       "      <td>Decision in Normandy</td>\n",
       "      <td>Carlo D'Este</td>\n",
       "      <td>1991</td>\n",
       "      <td>HarperPerennial</td>\n",
       "      <td>http://images.amazon.com/images/P/0060973129.0...</td>\n",
       "      <td>http://images.amazon.com/images/P/0060973129.0...</td>\n",
       "      <td>http://images.amazon.com/images/P/0060973129.0...</td>\n",
       "    </tr>\n",
       "    <tr>\n",
       "      <th>3</th>\n",
       "      <td>0374157065</td>\n",
       "      <td>Flu: The Story of the Great Influenza Pandemic...</td>\n",
       "      <td>Gina Bari Kolata</td>\n",
       "      <td>1999</td>\n",
       "      <td>Farrar Straus Giroux</td>\n",
       "      <td>http://images.amazon.com/images/P/0374157065.0...</td>\n",
       "      <td>http://images.amazon.com/images/P/0374157065.0...</td>\n",
       "      <td>http://images.amazon.com/images/P/0374157065.0...</td>\n",
       "    </tr>\n",
       "    <tr>\n",
       "      <th>4</th>\n",
       "      <td>0393045218</td>\n",
       "      <td>The Mummies of Urumchi</td>\n",
       "      <td>E. J. W. Barber</td>\n",
       "      <td>1999</td>\n",
       "      <td>W. W. Norton &amp;amp; Company</td>\n",
       "      <td>http://images.amazon.com/images/P/0393045218.0...</td>\n",
       "      <td>http://images.amazon.com/images/P/0393045218.0...</td>\n",
       "      <td>http://images.amazon.com/images/P/0393045218.0...</td>\n",
       "    </tr>\n",
       "  </tbody>\n",
       "</table>\n",
       "</div>"
      ],
      "text/plain": [
       "         ISBN                                         Book-Title  \\\n",
       "0  0195153448                                Classical Mythology   \n",
       "1  0002005018                                       Clara Callan   \n",
       "2  0060973129                               Decision in Normandy   \n",
       "3  0374157065  Flu: The Story of the Great Influenza Pandemic...   \n",
       "4  0393045218                             The Mummies of Urumchi   \n",
       "\n",
       "            Book-Author Year-Of-Publication                   Publisher  \\\n",
       "0    Mark P. O. Morford                2002     Oxford University Press   \n",
       "1  Richard Bruce Wright                2001       HarperFlamingo Canada   \n",
       "2          Carlo D'Este                1991             HarperPerennial   \n",
       "3      Gina Bari Kolata                1999        Farrar Straus Giroux   \n",
       "4       E. J. W. Barber                1999  W. W. Norton &amp; Company   \n",
       "\n",
       "                                         Image-URL-S  \\\n",
       "0  http://images.amazon.com/images/P/0195153448.0...   \n",
       "1  http://images.amazon.com/images/P/0002005018.0...   \n",
       "2  http://images.amazon.com/images/P/0060973129.0...   \n",
       "3  http://images.amazon.com/images/P/0374157065.0...   \n",
       "4  http://images.amazon.com/images/P/0393045218.0...   \n",
       "\n",
       "                                         Image-URL-M  \\\n",
       "0  http://images.amazon.com/images/P/0195153448.0...   \n",
       "1  http://images.amazon.com/images/P/0002005018.0...   \n",
       "2  http://images.amazon.com/images/P/0060973129.0...   \n",
       "3  http://images.amazon.com/images/P/0374157065.0...   \n",
       "4  http://images.amazon.com/images/P/0393045218.0...   \n",
       "\n",
       "                                         Image-URL-L  \n",
       "0  http://images.amazon.com/images/P/0195153448.0...  \n",
       "1  http://images.amazon.com/images/P/0002005018.0...  \n",
       "2  http://images.amazon.com/images/P/0060973129.0...  \n",
       "3  http://images.amazon.com/images/P/0374157065.0...  \n",
       "4  http://images.amazon.com/images/P/0393045218.0...  "
      ]
     },
     "execution_count": 3,
     "metadata": {},
     "output_type": "execute_result"
    }
   ],
   "source": [
    "books.head()"
   ]
  },
  {
   "cell_type": "code",
   "execution_count": 4,
   "id": "3a5d4841",
   "metadata": {},
   "outputs": [
    {
     "data": {
      "text/plain": [
       "'http://images.amazon.com/images/P/0671027387.01.LZZZZZZZ.jpg'"
      ]
     },
     "execution_count": 4,
     "metadata": {},
     "output_type": "execute_result"
    }
   ],
   "source": [
    "books.iloc[237]['Image-URL-L']"
   ]
  },
  {
   "cell_type": "code",
   "execution_count": 5,
   "id": "128b3d66",
   "metadata": {},
   "outputs": [
    {
     "data": {
      "text/plain": [
       "(271360, 8)"
      ]
     },
     "execution_count": 5,
     "metadata": {},
     "output_type": "execute_result"
    }
   ],
   "source": [
    "books.shape"
   ]
  },
  {
   "cell_type": "code",
   "execution_count": 6,
   "id": "96674645",
   "metadata": {},
   "outputs": [
    {
     "data": {
      "text/plain": [
       "Index(['ISBN', 'Book-Title', 'Book-Author', 'Year-Of-Publication', 'Publisher',\n",
       "       'Image-URL-S', 'Image-URL-M', 'Image-URL-L'],\n",
       "      dtype='object')"
      ]
     },
     "execution_count": 6,
     "metadata": {},
     "output_type": "execute_result"
    }
   ],
   "source": [
    "books.columns"
   ]
  },
  {
   "cell_type": "markdown",
   "id": "f008f723",
   "metadata": {},
   "source": [
    "# conclution"
   ]
  },
  {
   "cell_type": "markdown",
   "id": "ec92c428",
   "metadata": {},
   "source": [
    "### Here Image URL columns is important for the poster. So, we will keep it"
   ]
  },
  {
   "cell_type": "code",
   "execution_count": 7,
   "id": "67614c84",
   "metadata": {},
   "outputs": [],
   "source": [
    "books = books[['ISBN','Book-Title', 'Book-Author', 'Year-Of-Publication', 'Publisher','Image-URL-L']]\n"
   ]
  },
  {
   "cell_type": "code",
   "execution_count": 8,
   "id": "3a68453e",
   "metadata": {},
   "outputs": [
    {
     "data": {
      "text/html": [
       "<div>\n",
       "<style scoped>\n",
       "    .dataframe tbody tr th:only-of-type {\n",
       "        vertical-align: middle;\n",
       "    }\n",
       "\n",
       "    .dataframe tbody tr th {\n",
       "        vertical-align: top;\n",
       "    }\n",
       "\n",
       "    .dataframe thead th {\n",
       "        text-align: right;\n",
       "    }\n",
       "</style>\n",
       "<table border=\"1\" class=\"dataframe\">\n",
       "  <thead>\n",
       "    <tr style=\"text-align: right;\">\n",
       "      <th></th>\n",
       "      <th>ISBN</th>\n",
       "      <th>Book-Title</th>\n",
       "      <th>Book-Author</th>\n",
       "      <th>Year-Of-Publication</th>\n",
       "      <th>Publisher</th>\n",
       "      <th>Image-URL-L</th>\n",
       "    </tr>\n",
       "  </thead>\n",
       "  <tbody>\n",
       "    <tr>\n",
       "      <th>0</th>\n",
       "      <td>0195153448</td>\n",
       "      <td>Classical Mythology</td>\n",
       "      <td>Mark P. O. Morford</td>\n",
       "      <td>2002</td>\n",
       "      <td>Oxford University Press</td>\n",
       "      <td>http://images.amazon.com/images/P/0195153448.0...</td>\n",
       "    </tr>\n",
       "    <tr>\n",
       "      <th>1</th>\n",
       "      <td>0002005018</td>\n",
       "      <td>Clara Callan</td>\n",
       "      <td>Richard Bruce Wright</td>\n",
       "      <td>2001</td>\n",
       "      <td>HarperFlamingo Canada</td>\n",
       "      <td>http://images.amazon.com/images/P/0002005018.0...</td>\n",
       "    </tr>\n",
       "    <tr>\n",
       "      <th>2</th>\n",
       "      <td>0060973129</td>\n",
       "      <td>Decision in Normandy</td>\n",
       "      <td>Carlo D'Este</td>\n",
       "      <td>1991</td>\n",
       "      <td>HarperPerennial</td>\n",
       "      <td>http://images.amazon.com/images/P/0060973129.0...</td>\n",
       "    </tr>\n",
       "    <tr>\n",
       "      <th>3</th>\n",
       "      <td>0374157065</td>\n",
       "      <td>Flu: The Story of the Great Influenza Pandemic...</td>\n",
       "      <td>Gina Bari Kolata</td>\n",
       "      <td>1999</td>\n",
       "      <td>Farrar Straus Giroux</td>\n",
       "      <td>http://images.amazon.com/images/P/0374157065.0...</td>\n",
       "    </tr>\n",
       "    <tr>\n",
       "      <th>4</th>\n",
       "      <td>0393045218</td>\n",
       "      <td>The Mummies of Urumchi</td>\n",
       "      <td>E. J. W. Barber</td>\n",
       "      <td>1999</td>\n",
       "      <td>W. W. Norton &amp;amp; Company</td>\n",
       "      <td>http://images.amazon.com/images/P/0393045218.0...</td>\n",
       "    </tr>\n",
       "  </tbody>\n",
       "</table>\n",
       "</div>"
      ],
      "text/plain": [
       "         ISBN                                         Book-Title  \\\n",
       "0  0195153448                                Classical Mythology   \n",
       "1  0002005018                                       Clara Callan   \n",
       "2  0060973129                               Decision in Normandy   \n",
       "3  0374157065  Flu: The Story of the Great Influenza Pandemic...   \n",
       "4  0393045218                             The Mummies of Urumchi   \n",
       "\n",
       "            Book-Author Year-Of-Publication                   Publisher  \\\n",
       "0    Mark P. O. Morford                2002     Oxford University Press   \n",
       "1  Richard Bruce Wright                2001       HarperFlamingo Canada   \n",
       "2          Carlo D'Este                1991             HarperPerennial   \n",
       "3      Gina Bari Kolata                1999        Farrar Straus Giroux   \n",
       "4       E. J. W. Barber                1999  W. W. Norton &amp; Company   \n",
       "\n",
       "                                         Image-URL-L  \n",
       "0  http://images.amazon.com/images/P/0195153448.0...  \n",
       "1  http://images.amazon.com/images/P/0002005018.0...  \n",
       "2  http://images.amazon.com/images/P/0060973129.0...  \n",
       "3  http://images.amazon.com/images/P/0374157065.0...  \n",
       "4  http://images.amazon.com/images/P/0393045218.0...  "
      ]
     },
     "execution_count": 8,
     "metadata": {},
     "output_type": "execute_result"
    }
   ],
   "source": [
    "books.head()"
   ]
  },
  {
   "cell_type": "code",
   "execution_count": 9,
   "id": "48046a9b",
   "metadata": {},
   "outputs": [],
   "source": [
    "# Lets remane some wierd columns name\n",
    "books.rename(columns={\"Book-Title\":'title',\n",
    "                      'Book-Author':'author',\n",
    "                     \"Year-Of-Publication\":'year',\n",
    "                     \"Publisher\":\"publisher\",\n",
    "                     \"Image-URL-L\":\"image_url\"},inplace=True)"
   ]
  },
  {
   "cell_type": "code",
   "execution_count": 10,
   "id": "943dfa38",
   "metadata": {},
   "outputs": [
    {
     "data": {
      "text/html": [
       "<div>\n",
       "<style scoped>\n",
       "    .dataframe tbody tr th:only-of-type {\n",
       "        vertical-align: middle;\n",
       "    }\n",
       "\n",
       "    .dataframe tbody tr th {\n",
       "        vertical-align: top;\n",
       "    }\n",
       "\n",
       "    .dataframe thead th {\n",
       "        text-align: right;\n",
       "    }\n",
       "</style>\n",
       "<table border=\"1\" class=\"dataframe\">\n",
       "  <thead>\n",
       "    <tr style=\"text-align: right;\">\n",
       "      <th></th>\n",
       "      <th>ISBN</th>\n",
       "      <th>title</th>\n",
       "      <th>author</th>\n",
       "      <th>year</th>\n",
       "      <th>publisher</th>\n",
       "      <th>image_url</th>\n",
       "    </tr>\n",
       "  </thead>\n",
       "  <tbody>\n",
       "    <tr>\n",
       "      <th>0</th>\n",
       "      <td>0195153448</td>\n",
       "      <td>Classical Mythology</td>\n",
       "      <td>Mark P. O. Morford</td>\n",
       "      <td>2002</td>\n",
       "      <td>Oxford University Press</td>\n",
       "      <td>http://images.amazon.com/images/P/0195153448.0...</td>\n",
       "    </tr>\n",
       "    <tr>\n",
       "      <th>1</th>\n",
       "      <td>0002005018</td>\n",
       "      <td>Clara Callan</td>\n",
       "      <td>Richard Bruce Wright</td>\n",
       "      <td>2001</td>\n",
       "      <td>HarperFlamingo Canada</td>\n",
       "      <td>http://images.amazon.com/images/P/0002005018.0...</td>\n",
       "    </tr>\n",
       "    <tr>\n",
       "      <th>2</th>\n",
       "      <td>0060973129</td>\n",
       "      <td>Decision in Normandy</td>\n",
       "      <td>Carlo D'Este</td>\n",
       "      <td>1991</td>\n",
       "      <td>HarperPerennial</td>\n",
       "      <td>http://images.amazon.com/images/P/0060973129.0...</td>\n",
       "    </tr>\n",
       "    <tr>\n",
       "      <th>3</th>\n",
       "      <td>0374157065</td>\n",
       "      <td>Flu: The Story of the Great Influenza Pandemic...</td>\n",
       "      <td>Gina Bari Kolata</td>\n",
       "      <td>1999</td>\n",
       "      <td>Farrar Straus Giroux</td>\n",
       "      <td>http://images.amazon.com/images/P/0374157065.0...</td>\n",
       "    </tr>\n",
       "    <tr>\n",
       "      <th>4</th>\n",
       "      <td>0393045218</td>\n",
       "      <td>The Mummies of Urumchi</td>\n",
       "      <td>E. J. W. Barber</td>\n",
       "      <td>1999</td>\n",
       "      <td>W. W. Norton &amp;amp; Company</td>\n",
       "      <td>http://images.amazon.com/images/P/0393045218.0...</td>\n",
       "    </tr>\n",
       "  </tbody>\n",
       "</table>\n",
       "</div>"
      ],
      "text/plain": [
       "         ISBN                                              title  \\\n",
       "0  0195153448                                Classical Mythology   \n",
       "1  0002005018                                       Clara Callan   \n",
       "2  0060973129                               Decision in Normandy   \n",
       "3  0374157065  Flu: The Story of the Great Influenza Pandemic...   \n",
       "4  0393045218                             The Mummies of Urumchi   \n",
       "\n",
       "                 author  year                   publisher  \\\n",
       "0    Mark P. O. Morford  2002     Oxford University Press   \n",
       "1  Richard Bruce Wright  2001       HarperFlamingo Canada   \n",
       "2          Carlo D'Este  1991             HarperPerennial   \n",
       "3      Gina Bari Kolata  1999        Farrar Straus Giroux   \n",
       "4       E. J. W. Barber  1999  W. W. Norton &amp; Company   \n",
       "\n",
       "                                           image_url  \n",
       "0  http://images.amazon.com/images/P/0195153448.0...  \n",
       "1  http://images.amazon.com/images/P/0002005018.0...  \n",
       "2  http://images.amazon.com/images/P/0060973129.0...  \n",
       "3  http://images.amazon.com/images/P/0374157065.0...  \n",
       "4  http://images.amazon.com/images/P/0393045218.0...  "
      ]
     },
     "execution_count": 10,
     "metadata": {},
     "output_type": "execute_result"
    }
   ],
   "source": [
    "books.head()"
   ]
  },
  {
   "cell_type": "code",
   "execution_count": 11,
   "id": "0c8c9c4f",
   "metadata": {},
   "outputs": [
    {
     "name": "stderr",
     "output_type": "stream",
     "text": [
      "C:\\Users\\nayan\\AppData\\Local\\Temp\\ipykernel_18692\\2392283193.py:3: FutureWarning: The error_bad_lines argument has been deprecated and will be removed in a future version. Use on_bad_lines in the future.\n",
      "\n",
      "\n",
      "  users = pd.read_csv('users.csv', sep=\";\", error_bad_lines=False, encoding='latin-1')\n"
     ]
    }
   ],
   "source": [
    "# Now load the second dataframe\n",
    "\n",
    "users = pd.read_csv('users.csv', sep=\";\", error_bad_lines=False, encoding='latin-1')"
   ]
  },
  {
   "cell_type": "code",
   "execution_count": 12,
   "id": "1f9f3f54",
   "metadata": {},
   "outputs": [
    {
     "data": {
      "text/html": [
       "<div>\n",
       "<style scoped>\n",
       "    .dataframe tbody tr th:only-of-type {\n",
       "        vertical-align: middle;\n",
       "    }\n",
       "\n",
       "    .dataframe tbody tr th {\n",
       "        vertical-align: top;\n",
       "    }\n",
       "\n",
       "    .dataframe thead th {\n",
       "        text-align: right;\n",
       "    }\n",
       "</style>\n",
       "<table border=\"1\" class=\"dataframe\">\n",
       "  <thead>\n",
       "    <tr style=\"text-align: right;\">\n",
       "      <th></th>\n",
       "      <th>User-ID</th>\n",
       "      <th>Location</th>\n",
       "      <th>Age</th>\n",
       "    </tr>\n",
       "  </thead>\n",
       "  <tbody>\n",
       "    <tr>\n",
       "      <th>0</th>\n",
       "      <td>1</td>\n",
       "      <td>nyc, new york, usa</td>\n",
       "      <td>NaN</td>\n",
       "    </tr>\n",
       "    <tr>\n",
       "      <th>1</th>\n",
       "      <td>2</td>\n",
       "      <td>stockton, california, usa</td>\n",
       "      <td>18.0</td>\n",
       "    </tr>\n",
       "    <tr>\n",
       "      <th>2</th>\n",
       "      <td>3</td>\n",
       "      <td>moscow, yukon territory, russia</td>\n",
       "      <td>NaN</td>\n",
       "    </tr>\n",
       "    <tr>\n",
       "      <th>3</th>\n",
       "      <td>4</td>\n",
       "      <td>porto, v.n.gaia, portugal</td>\n",
       "      <td>17.0</td>\n",
       "    </tr>\n",
       "    <tr>\n",
       "      <th>4</th>\n",
       "      <td>5</td>\n",
       "      <td>farnborough, hants, united kingdom</td>\n",
       "      <td>NaN</td>\n",
       "    </tr>\n",
       "  </tbody>\n",
       "</table>\n",
       "</div>"
      ],
      "text/plain": [
       "   User-ID                            Location   Age\n",
       "0        1                  nyc, new york, usa   NaN\n",
       "1        2           stockton, california, usa  18.0\n",
       "2        3     moscow, yukon territory, russia   NaN\n",
       "3        4           porto, v.n.gaia, portugal  17.0\n",
       "4        5  farnborough, hants, united kingdom   NaN"
      ]
     },
     "execution_count": 12,
     "metadata": {},
     "output_type": "execute_result"
    }
   ],
   "source": [
    "users.head()"
   ]
  },
  {
   "cell_type": "code",
   "execution_count": 13,
   "id": "a9fbb510",
   "metadata": {},
   "outputs": [
    {
     "data": {
      "text/plain": [
       "(278858, 3)"
      ]
     },
     "execution_count": 13,
     "metadata": {},
     "output_type": "execute_result"
    }
   ],
   "source": [
    "users.shape"
   ]
  },
  {
   "cell_type": "code",
   "execution_count": 14,
   "id": "3bb608e2",
   "metadata": {},
   "outputs": [
    {
     "name": "stderr",
     "output_type": "stream",
     "text": [
      "C:\\Users\\nayan\\AppData\\Local\\Temp\\ipykernel_18692\\1510374827.py:3: FutureWarning: The error_bad_lines argument has been deprecated and will be removed in a future version. Use on_bad_lines in the future.\n",
      "\n",
      "\n",
      "  ratings = pd.read_csv('ratings.csv', sep=\";\", error_bad_lines=False, encoding='latin-1')\n"
     ]
    }
   ],
   "source": [
    "# Now load the third dataframe\n",
    "\n",
    "ratings = pd.read_csv('ratings.csv', sep=\";\", error_bad_lines=False, encoding='latin-1')"
   ]
  },
  {
   "cell_type": "code",
   "execution_count": 15,
   "id": "4b8188bf",
   "metadata": {},
   "outputs": [
    {
     "data": {
      "text/html": [
       "<div>\n",
       "<style scoped>\n",
       "    .dataframe tbody tr th:only-of-type {\n",
       "        vertical-align: middle;\n",
       "    }\n",
       "\n",
       "    .dataframe tbody tr th {\n",
       "        vertical-align: top;\n",
       "    }\n",
       "\n",
       "    .dataframe thead th {\n",
       "        text-align: right;\n",
       "    }\n",
       "</style>\n",
       "<table border=\"1\" class=\"dataframe\">\n",
       "  <thead>\n",
       "    <tr style=\"text-align: right;\">\n",
       "      <th></th>\n",
       "      <th>User-ID</th>\n",
       "      <th>ISBN</th>\n",
       "      <th>Book-Rating</th>\n",
       "    </tr>\n",
       "  </thead>\n",
       "  <tbody>\n",
       "    <tr>\n",
       "      <th>0</th>\n",
       "      <td>276725</td>\n",
       "      <td>034545104X</td>\n",
       "      <td>0</td>\n",
       "    </tr>\n",
       "    <tr>\n",
       "      <th>1</th>\n",
       "      <td>276726</td>\n",
       "      <td>0155061224</td>\n",
       "      <td>5</td>\n",
       "    </tr>\n",
       "    <tr>\n",
       "      <th>2</th>\n",
       "      <td>276727</td>\n",
       "      <td>0446520802</td>\n",
       "      <td>0</td>\n",
       "    </tr>\n",
       "    <tr>\n",
       "      <th>3</th>\n",
       "      <td>276729</td>\n",
       "      <td>052165615X</td>\n",
       "      <td>3</td>\n",
       "    </tr>\n",
       "    <tr>\n",
       "      <th>4</th>\n",
       "      <td>276729</td>\n",
       "      <td>0521795028</td>\n",
       "      <td>6</td>\n",
       "    </tr>\n",
       "  </tbody>\n",
       "</table>\n",
       "</div>"
      ],
      "text/plain": [
       "   User-ID        ISBN  Book-Rating\n",
       "0   276725  034545104X            0\n",
       "1   276726  0155061224            5\n",
       "2   276727  0446520802            0\n",
       "3   276729  052165615X            3\n",
       "4   276729  0521795028            6"
      ]
     },
     "execution_count": 15,
     "metadata": {},
     "output_type": "execute_result"
    }
   ],
   "source": [
    "ratings.head()"
   ]
  },
  {
   "cell_type": "code",
   "execution_count": 16,
   "id": "2d384fcc",
   "metadata": {},
   "outputs": [
    {
     "data": {
      "text/html": [
       "<div>\n",
       "<style scoped>\n",
       "    .dataframe tbody tr th:only-of-type {\n",
       "        vertical-align: middle;\n",
       "    }\n",
       "\n",
       "    .dataframe tbody tr th {\n",
       "        vertical-align: top;\n",
       "    }\n",
       "\n",
       "    .dataframe thead th {\n",
       "        text-align: right;\n",
       "    }\n",
       "</style>\n",
       "<table border=\"1\" class=\"dataframe\">\n",
       "  <thead>\n",
       "    <tr style=\"text-align: right;\">\n",
       "      <th></th>\n",
       "      <th>user_id</th>\n",
       "      <th>ISBN</th>\n",
       "      <th>rating</th>\n",
       "    </tr>\n",
       "  </thead>\n",
       "  <tbody>\n",
       "    <tr>\n",
       "      <th>0</th>\n",
       "      <td>276725</td>\n",
       "      <td>034545104X</td>\n",
       "      <td>0</td>\n",
       "    </tr>\n",
       "    <tr>\n",
       "      <th>1</th>\n",
       "      <td>276726</td>\n",
       "      <td>0155061224</td>\n",
       "      <td>5</td>\n",
       "    </tr>\n",
       "  </tbody>\n",
       "</table>\n",
       "</div>"
      ],
      "text/plain": [
       "   user_id        ISBN  rating\n",
       "0   276725  034545104X       0\n",
       "1   276726  0155061224       5"
      ]
     },
     "execution_count": 16,
     "metadata": {},
     "output_type": "execute_result"
    }
   ],
   "source": [
    "# Lets remane some wierd columns name\n",
    "ratings.rename(columns={\"User-ID\":'user_id',\n",
    "                      'Book-Rating':'rating'},inplace=True)\n",
    "ratings.head(2)"
   ]
  },
  {
   "cell_type": "markdown",
   "id": "26f76237",
   "metadata": {},
   "source": [
    "# Now We Have Three Dataframes"
   ]
  },
  {
   "cell_type": "code",
   "execution_count": 17,
   "id": "9f4455e2",
   "metadata": {},
   "outputs": [
    {
     "name": "stdout",
     "output_type": "stream",
     "text": [
      "(271360, 6)\n",
      "(278858, 3)\n",
      "(1149780, 3)\n"
     ]
    }
   ],
   "source": [
    "print(books.shape, users.shape, ratings.shape, sep='\\n')"
   ]
  },
  {
   "cell_type": "code",
   "execution_count": 18,
   "id": "eeab09b4",
   "metadata": {},
   "outputs": [
    {
     "data": {
      "text/plain": [
       "11676     13602\n",
       "198711     7550\n",
       "153662     6109\n",
       "98391      5891\n",
       "35859      5850\n",
       "          ...  \n",
       "116180        1\n",
       "116166        1\n",
       "116154        1\n",
       "116137        1\n",
       "276723        1\n",
       "Name: user_id, Length: 105283, dtype: int64"
      ]
     },
     "execution_count": 18,
     "metadata": {},
     "output_type": "execute_result"
    }
   ],
   "source": [
    "ratings['user_id'].value_counts()"
   ]
  },
  {
   "cell_type": "code",
   "execution_count": 19,
   "id": "3ca0eeab",
   "metadata": {},
   "outputs": [
    {
     "data": {
      "text/plain": [
       "(105283,)"
      ]
     },
     "execution_count": 19,
     "metadata": {},
     "output_type": "execute_result"
    }
   ],
   "source": [
    "ratings['user_id'].value_counts().shape"
   ]
  },
  {
   "cell_type": "code",
   "execution_count": 20,
   "id": "89644461",
   "metadata": {},
   "outputs": [
    {
     "data": {
      "text/plain": [
       "(105283,)"
      ]
     },
     "execution_count": 20,
     "metadata": {},
     "output_type": "execute_result"
    }
   ],
   "source": [
    "ratings['user_id'].unique().shape"
   ]
  },
  {
   "cell_type": "code",
   "execution_count": 21,
   "id": "ffff5dc0",
   "metadata": {},
   "outputs": [],
   "source": [
    "# Lets store users who had at least rated more than 200 books\n",
    "x = ratings['user_id'].value_counts() > 200"
   ]
  },
  {
   "cell_type": "code",
   "execution_count": 22,
   "id": "3154ad37",
   "metadata": {},
   "outputs": [
    {
     "data": {
      "text/plain": [
       "11676      True\n",
       "198711     True\n",
       "153662     True\n",
       "98391      True\n",
       "35859      True\n",
       "          ...  \n",
       "116180    False\n",
       "116166    False\n",
       "116154    False\n",
       "116137    False\n",
       "276723    False\n",
       "Name: user_id, Length: 105283, dtype: bool"
      ]
     },
     "execution_count": 22,
     "metadata": {},
     "output_type": "execute_result"
    }
   ],
   "source": [
    "x"
   ]
  },
  {
   "cell_type": "code",
   "execution_count": 22,
   "id": "4a80f721",
   "metadata": {},
   "outputs": [
    {
     "data": {
      "text/plain": [
       "(899,)"
      ]
     },
     "execution_count": 22,
     "metadata": {},
     "output_type": "execute_result"
    }
   ],
   "source": [
    "x[x].shape"
   ]
  },
  {
   "cell_type": "code",
   "execution_count": 23,
   "id": "035751e1",
   "metadata": {
    "scrolled": true
   },
   "outputs": [
    {
     "data": {
      "text/plain": [
       "11676     True\n",
       "198711    True\n",
       "153662    True\n",
       "98391     True\n",
       "35859     True\n",
       "          ... \n",
       "274808    True\n",
       "28634     True\n",
       "59727     True\n",
       "268622    True\n",
       "188951    True\n",
       "Name: user_id, Length: 899, dtype: bool"
      ]
     },
     "execution_count": 23,
     "metadata": {},
     "output_type": "execute_result"
    }
   ],
   "source": [
    "x[x]"
   ]
  },
  {
   "cell_type": "code",
   "execution_count": 25,
   "id": "e47d159c",
   "metadata": {},
   "outputs": [
    {
     "data": {
      "text/plain": [
       "Int64Index([ 11676, 198711, 153662,  98391,  35859, 212898, 278418,  76352,\n",
       "            110973, 235105,\n",
       "            ...\n",
       "            116216, 116191, 116136, 116184, 116182, 116180, 116166, 116154,\n",
       "            116137, 276723],\n",
       "           dtype='int64', length=105283)"
      ]
     },
     "execution_count": 25,
     "metadata": {},
     "output_type": "execute_result"
    }
   ],
   "source": [
    "y= x.index\n",
    "y"
   ]
  },
  {
   "cell_type": "code",
   "execution_count": 26,
   "id": "16364fd7",
   "metadata": {},
   "outputs": [],
   "source": [
    "ratings = ratings[ratings['user_id'].isin(y)]"
   ]
  },
  {
   "cell_type": "code",
   "execution_count": 27,
   "id": "a8432327",
   "metadata": {},
   "outputs": [
    {
     "data": {
      "text/html": [
       "<div>\n",
       "<style scoped>\n",
       "    .dataframe tbody tr th:only-of-type {\n",
       "        vertical-align: middle;\n",
       "    }\n",
       "\n",
       "    .dataframe tbody tr th {\n",
       "        vertical-align: top;\n",
       "    }\n",
       "\n",
       "    .dataframe thead th {\n",
       "        text-align: right;\n",
       "    }\n",
       "</style>\n",
       "<table border=\"1\" class=\"dataframe\">\n",
       "  <thead>\n",
       "    <tr style=\"text-align: right;\">\n",
       "      <th></th>\n",
       "      <th>user_id</th>\n",
       "      <th>ISBN</th>\n",
       "      <th>rating</th>\n",
       "    </tr>\n",
       "  </thead>\n",
       "  <tbody>\n",
       "    <tr>\n",
       "      <th>0</th>\n",
       "      <td>276725</td>\n",
       "      <td>034545104X</td>\n",
       "      <td>0</td>\n",
       "    </tr>\n",
       "    <tr>\n",
       "      <th>1</th>\n",
       "      <td>276726</td>\n",
       "      <td>0155061224</td>\n",
       "      <td>5</td>\n",
       "    </tr>\n",
       "    <tr>\n",
       "      <th>2</th>\n",
       "      <td>276727</td>\n",
       "      <td>0446520802</td>\n",
       "      <td>0</td>\n",
       "    </tr>\n",
       "    <tr>\n",
       "      <th>3</th>\n",
       "      <td>276729</td>\n",
       "      <td>052165615X</td>\n",
       "      <td>3</td>\n",
       "    </tr>\n",
       "    <tr>\n",
       "      <th>4</th>\n",
       "      <td>276729</td>\n",
       "      <td>0521795028</td>\n",
       "      <td>6</td>\n",
       "    </tr>\n",
       "  </tbody>\n",
       "</table>\n",
       "</div>"
      ],
      "text/plain": [
       "   user_id        ISBN  rating\n",
       "0   276725  034545104X       0\n",
       "1   276726  0155061224       5\n",
       "2   276727  0446520802       0\n",
       "3   276729  052165615X       3\n",
       "4   276729  0521795028       6"
      ]
     },
     "execution_count": 27,
     "metadata": {},
     "output_type": "execute_result"
    }
   ],
   "source": [
    "ratings.head()"
   ]
  },
  {
   "cell_type": "code",
   "execution_count": 28,
   "id": "0574fe0b",
   "metadata": {},
   "outputs": [
    {
     "data": {
      "text/plain": [
       "(1149780, 3)"
      ]
     },
     "execution_count": 28,
     "metadata": {},
     "output_type": "execute_result"
    }
   ],
   "source": [
    "ratings.shape"
   ]
  },
  {
   "cell_type": "code",
   "execution_count": 29,
   "id": "c1e3042c",
   "metadata": {},
   "outputs": [],
   "source": [
    "# Now join ratings with books\n",
    "\n",
    "ratings_with_books = ratings.merge(books, on='ISBN')"
   ]
  },
  {
   "cell_type": "code",
   "execution_count": 30,
   "id": "2887f001",
   "metadata": {},
   "outputs": [
    {
     "data": {
      "text/html": [
       "<div>\n",
       "<style scoped>\n",
       "    .dataframe tbody tr th:only-of-type {\n",
       "        vertical-align: middle;\n",
       "    }\n",
       "\n",
       "    .dataframe tbody tr th {\n",
       "        vertical-align: top;\n",
       "    }\n",
       "\n",
       "    .dataframe thead th {\n",
       "        text-align: right;\n",
       "    }\n",
       "</style>\n",
       "<table border=\"1\" class=\"dataframe\">\n",
       "  <thead>\n",
       "    <tr style=\"text-align: right;\">\n",
       "      <th></th>\n",
       "      <th>user_id</th>\n",
       "      <th>ISBN</th>\n",
       "      <th>rating</th>\n",
       "      <th>title</th>\n",
       "      <th>author</th>\n",
       "      <th>year</th>\n",
       "      <th>publisher</th>\n",
       "      <th>image_url</th>\n",
       "    </tr>\n",
       "  </thead>\n",
       "  <tbody>\n",
       "    <tr>\n",
       "      <th>0</th>\n",
       "      <td>276725</td>\n",
       "      <td>034545104X</td>\n",
       "      <td>0</td>\n",
       "      <td>Flesh Tones: A Novel</td>\n",
       "      <td>M. J. Rose</td>\n",
       "      <td>2002</td>\n",
       "      <td>Ballantine Books</td>\n",
       "      <td>http://images.amazon.com/images/P/034545104X.0...</td>\n",
       "    </tr>\n",
       "    <tr>\n",
       "      <th>1</th>\n",
       "      <td>2313</td>\n",
       "      <td>034545104X</td>\n",
       "      <td>5</td>\n",
       "      <td>Flesh Tones: A Novel</td>\n",
       "      <td>M. J. Rose</td>\n",
       "      <td>2002</td>\n",
       "      <td>Ballantine Books</td>\n",
       "      <td>http://images.amazon.com/images/P/034545104X.0...</td>\n",
       "    </tr>\n",
       "    <tr>\n",
       "      <th>2</th>\n",
       "      <td>6543</td>\n",
       "      <td>034545104X</td>\n",
       "      <td>0</td>\n",
       "      <td>Flesh Tones: A Novel</td>\n",
       "      <td>M. J. Rose</td>\n",
       "      <td>2002</td>\n",
       "      <td>Ballantine Books</td>\n",
       "      <td>http://images.amazon.com/images/P/034545104X.0...</td>\n",
       "    </tr>\n",
       "    <tr>\n",
       "      <th>3</th>\n",
       "      <td>8680</td>\n",
       "      <td>034545104X</td>\n",
       "      <td>5</td>\n",
       "      <td>Flesh Tones: A Novel</td>\n",
       "      <td>M. J. Rose</td>\n",
       "      <td>2002</td>\n",
       "      <td>Ballantine Books</td>\n",
       "      <td>http://images.amazon.com/images/P/034545104X.0...</td>\n",
       "    </tr>\n",
       "    <tr>\n",
       "      <th>4</th>\n",
       "      <td>10314</td>\n",
       "      <td>034545104X</td>\n",
       "      <td>9</td>\n",
       "      <td>Flesh Tones: A Novel</td>\n",
       "      <td>M. J. Rose</td>\n",
       "      <td>2002</td>\n",
       "      <td>Ballantine Books</td>\n",
       "      <td>http://images.amazon.com/images/P/034545104X.0...</td>\n",
       "    </tr>\n",
       "  </tbody>\n",
       "</table>\n",
       "</div>"
      ],
      "text/plain": [
       "   user_id        ISBN  rating                 title      author  year  \\\n",
       "0   276725  034545104X       0  Flesh Tones: A Novel  M. J. Rose  2002   \n",
       "1     2313  034545104X       5  Flesh Tones: A Novel  M. J. Rose  2002   \n",
       "2     6543  034545104X       0  Flesh Tones: A Novel  M. J. Rose  2002   \n",
       "3     8680  034545104X       5  Flesh Tones: A Novel  M. J. Rose  2002   \n",
       "4    10314  034545104X       9  Flesh Tones: A Novel  M. J. Rose  2002   \n",
       "\n",
       "          publisher                                          image_url  \n",
       "0  Ballantine Books  http://images.amazon.com/images/P/034545104X.0...  \n",
       "1  Ballantine Books  http://images.amazon.com/images/P/034545104X.0...  \n",
       "2  Ballantine Books  http://images.amazon.com/images/P/034545104X.0...  \n",
       "3  Ballantine Books  http://images.amazon.com/images/P/034545104X.0...  \n",
       "4  Ballantine Books  http://images.amazon.com/images/P/034545104X.0...  "
      ]
     },
     "execution_count": 30,
     "metadata": {},
     "output_type": "execute_result"
    }
   ],
   "source": [
    "ratings_with_books.head()"
   ]
  },
  {
   "cell_type": "code",
   "execution_count": 31,
   "id": "7a72c50f",
   "metadata": {},
   "outputs": [
    {
     "data": {
      "text/plain": [
       "(1031136, 8)"
      ]
     },
     "execution_count": 31,
     "metadata": {},
     "output_type": "execute_result"
    }
   ],
   "source": [
    "ratings_with_books.shape"
   ]
  },
  {
   "cell_type": "code",
   "execution_count": 32,
   "id": "f636c27b",
   "metadata": {},
   "outputs": [
    {
     "data": {
      "text/html": [
       "<div>\n",
       "<style scoped>\n",
       "    .dataframe tbody tr th:only-of-type {\n",
       "        vertical-align: middle;\n",
       "    }\n",
       "\n",
       "    .dataframe tbody tr th {\n",
       "        vertical-align: top;\n",
       "    }\n",
       "\n",
       "    .dataframe thead th {\n",
       "        text-align: right;\n",
       "    }\n",
       "</style>\n",
       "<table border=\"1\" class=\"dataframe\">\n",
       "  <thead>\n",
       "    <tr style=\"text-align: right;\">\n",
       "      <th></th>\n",
       "      <th>title</th>\n",
       "      <th>rating</th>\n",
       "    </tr>\n",
       "  </thead>\n",
       "  <tbody>\n",
       "    <tr>\n",
       "      <th>0</th>\n",
       "      <td>A Light in the Storm: The Civil War Diary of ...</td>\n",
       "      <td>4</td>\n",
       "    </tr>\n",
       "    <tr>\n",
       "      <th>1</th>\n",
       "      <td>Always Have Popsicles</td>\n",
       "      <td>1</td>\n",
       "    </tr>\n",
       "    <tr>\n",
       "      <th>2</th>\n",
       "      <td>Apple Magic (The Collector's series)</td>\n",
       "      <td>1</td>\n",
       "    </tr>\n",
       "    <tr>\n",
       "      <th>3</th>\n",
       "      <td>Ask Lily (Young Women of Faith: Lily Series, ...</td>\n",
       "      <td>1</td>\n",
       "    </tr>\n",
       "    <tr>\n",
       "      <th>4</th>\n",
       "      <td>Beyond IBM: Leadership Marketing and Finance ...</td>\n",
       "      <td>1</td>\n",
       "    </tr>\n",
       "  </tbody>\n",
       "</table>\n",
       "</div>"
      ],
      "text/plain": [
       "                                               title  rating\n",
       "0   A Light in the Storm: The Civil War Diary of ...       4\n",
       "1                              Always Have Popsicles       1\n",
       "2               Apple Magic (The Collector's series)       1\n",
       "3   Ask Lily (Young Women of Faith: Lily Series, ...       1\n",
       "4   Beyond IBM: Leadership Marketing and Finance ...       1"
      ]
     },
     "execution_count": 32,
     "metadata": {},
     "output_type": "execute_result"
    }
   ],
   "source": [
    "number_rating = ratings_with_books.groupby('title')['rating'].count().reset_index()\n",
    "number_rating.head()"
   ]
  },
  {
   "cell_type": "code",
   "execution_count": 33,
   "id": "45b9e9b3",
   "metadata": {},
   "outputs": [
    {
     "data": {
      "text/html": [
       "<div>\n",
       "<style scoped>\n",
       "    .dataframe tbody tr th:only-of-type {\n",
       "        vertical-align: middle;\n",
       "    }\n",
       "\n",
       "    .dataframe tbody tr th {\n",
       "        vertical-align: top;\n",
       "    }\n",
       "\n",
       "    .dataframe thead th {\n",
       "        text-align: right;\n",
       "    }\n",
       "</style>\n",
       "<table border=\"1\" class=\"dataframe\">\n",
       "  <thead>\n",
       "    <tr style=\"text-align: right;\">\n",
       "      <th></th>\n",
       "      <th>title</th>\n",
       "      <th>num_of_rating</th>\n",
       "    </tr>\n",
       "  </thead>\n",
       "  <tbody>\n",
       "    <tr>\n",
       "      <th>0</th>\n",
       "      <td>A Light in the Storm: The Civil War Diary of ...</td>\n",
       "      <td>4</td>\n",
       "    </tr>\n",
       "    <tr>\n",
       "      <th>1</th>\n",
       "      <td>Always Have Popsicles</td>\n",
       "      <td>1</td>\n",
       "    </tr>\n",
       "    <tr>\n",
       "      <th>2</th>\n",
       "      <td>Apple Magic (The Collector's series)</td>\n",
       "      <td>1</td>\n",
       "    </tr>\n",
       "    <tr>\n",
       "      <th>3</th>\n",
       "      <td>Ask Lily (Young Women of Faith: Lily Series, ...</td>\n",
       "      <td>1</td>\n",
       "    </tr>\n",
       "    <tr>\n",
       "      <th>4</th>\n",
       "      <td>Beyond IBM: Leadership Marketing and Finance ...</td>\n",
       "      <td>1</td>\n",
       "    </tr>\n",
       "  </tbody>\n",
       "</table>\n",
       "</div>"
      ],
      "text/plain": [
       "                                               title  num_of_rating\n",
       "0   A Light in the Storm: The Civil War Diary of ...              4\n",
       "1                              Always Have Popsicles              1\n",
       "2               Apple Magic (The Collector's series)              1\n",
       "3   Ask Lily (Young Women of Faith: Lily Series, ...              1\n",
       "4   Beyond IBM: Leadership Marketing and Finance ...              1"
      ]
     },
     "execution_count": 33,
     "metadata": {},
     "output_type": "execute_result"
    }
   ],
   "source": [
    "number_rating.rename(columns={'rating':'num_of_rating'},inplace=True)\n",
    "number_rating.head()"
   ]
  },
  {
   "cell_type": "code",
   "execution_count": 34,
   "id": "d7d3ec73",
   "metadata": {},
   "outputs": [
    {
     "data": {
      "text/html": [
       "<div>\n",
       "<style scoped>\n",
       "    .dataframe tbody tr th:only-of-type {\n",
       "        vertical-align: middle;\n",
       "    }\n",
       "\n",
       "    .dataframe tbody tr th {\n",
       "        vertical-align: top;\n",
       "    }\n",
       "\n",
       "    .dataframe thead th {\n",
       "        text-align: right;\n",
       "    }\n",
       "</style>\n",
       "<table border=\"1\" class=\"dataframe\">\n",
       "  <thead>\n",
       "    <tr style=\"text-align: right;\">\n",
       "      <th></th>\n",
       "      <th>user_id</th>\n",
       "      <th>ISBN</th>\n",
       "      <th>rating</th>\n",
       "      <th>title</th>\n",
       "      <th>author</th>\n",
       "      <th>year</th>\n",
       "      <th>publisher</th>\n",
       "      <th>image_url</th>\n",
       "      <th>num_of_rating</th>\n",
       "    </tr>\n",
       "  </thead>\n",
       "  <tbody>\n",
       "    <tr>\n",
       "      <th>0</th>\n",
       "      <td>276725</td>\n",
       "      <td>034545104X</td>\n",
       "      <td>0</td>\n",
       "      <td>Flesh Tones: A Novel</td>\n",
       "      <td>M. J. Rose</td>\n",
       "      <td>2002</td>\n",
       "      <td>Ballantine Books</td>\n",
       "      <td>http://images.amazon.com/images/P/034545104X.0...</td>\n",
       "      <td>60</td>\n",
       "    </tr>\n",
       "    <tr>\n",
       "      <th>1</th>\n",
       "      <td>2313</td>\n",
       "      <td>034545104X</td>\n",
       "      <td>5</td>\n",
       "      <td>Flesh Tones: A Novel</td>\n",
       "      <td>M. J. Rose</td>\n",
       "      <td>2002</td>\n",
       "      <td>Ballantine Books</td>\n",
       "      <td>http://images.amazon.com/images/P/034545104X.0...</td>\n",
       "      <td>60</td>\n",
       "    </tr>\n",
       "    <tr>\n",
       "      <th>2</th>\n",
       "      <td>6543</td>\n",
       "      <td>034545104X</td>\n",
       "      <td>0</td>\n",
       "      <td>Flesh Tones: A Novel</td>\n",
       "      <td>M. J. Rose</td>\n",
       "      <td>2002</td>\n",
       "      <td>Ballantine Books</td>\n",
       "      <td>http://images.amazon.com/images/P/034545104X.0...</td>\n",
       "      <td>60</td>\n",
       "    </tr>\n",
       "    <tr>\n",
       "      <th>3</th>\n",
       "      <td>8680</td>\n",
       "      <td>034545104X</td>\n",
       "      <td>5</td>\n",
       "      <td>Flesh Tones: A Novel</td>\n",
       "      <td>M. J. Rose</td>\n",
       "      <td>2002</td>\n",
       "      <td>Ballantine Books</td>\n",
       "      <td>http://images.amazon.com/images/P/034545104X.0...</td>\n",
       "      <td>60</td>\n",
       "    </tr>\n",
       "    <tr>\n",
       "      <th>4</th>\n",
       "      <td>10314</td>\n",
       "      <td>034545104X</td>\n",
       "      <td>9</td>\n",
       "      <td>Flesh Tones: A Novel</td>\n",
       "      <td>M. J. Rose</td>\n",
       "      <td>2002</td>\n",
       "      <td>Ballantine Books</td>\n",
       "      <td>http://images.amazon.com/images/P/034545104X.0...</td>\n",
       "      <td>60</td>\n",
       "    </tr>\n",
       "  </tbody>\n",
       "</table>\n",
       "</div>"
      ],
      "text/plain": [
       "   user_id        ISBN  rating                 title      author  year  \\\n",
       "0   276725  034545104X       0  Flesh Tones: A Novel  M. J. Rose  2002   \n",
       "1     2313  034545104X       5  Flesh Tones: A Novel  M. J. Rose  2002   \n",
       "2     6543  034545104X       0  Flesh Tones: A Novel  M. J. Rose  2002   \n",
       "3     8680  034545104X       5  Flesh Tones: A Novel  M. J. Rose  2002   \n",
       "4    10314  034545104X       9  Flesh Tones: A Novel  M. J. Rose  2002   \n",
       "\n",
       "          publisher                                          image_url  \\\n",
       "0  Ballantine Books  http://images.amazon.com/images/P/034545104X.0...   \n",
       "1  Ballantine Books  http://images.amazon.com/images/P/034545104X.0...   \n",
       "2  Ballantine Books  http://images.amazon.com/images/P/034545104X.0...   \n",
       "3  Ballantine Books  http://images.amazon.com/images/P/034545104X.0...   \n",
       "4  Ballantine Books  http://images.amazon.com/images/P/034545104X.0...   \n",
       "\n",
       "   num_of_rating  \n",
       "0             60  \n",
       "1             60  \n",
       "2             60  \n",
       "3             60  \n",
       "4             60  "
      ]
     },
     "execution_count": 34,
     "metadata": {},
     "output_type": "execute_result"
    }
   ],
   "source": [
    "final_rating = ratings_with_books.merge(number_rating, on='title')\n",
    "final_rating.head()"
   ]
  },
  {
   "cell_type": "code",
   "execution_count": 35,
   "id": "6eb6d939",
   "metadata": {},
   "outputs": [
    {
     "data": {
      "text/html": [
       "<div>\n",
       "<style scoped>\n",
       "    .dataframe tbody tr th:only-of-type {\n",
       "        vertical-align: middle;\n",
       "    }\n",
       "\n",
       "    .dataframe tbody tr th {\n",
       "        vertical-align: top;\n",
       "    }\n",
       "\n",
       "    .dataframe thead th {\n",
       "        text-align: right;\n",
       "    }\n",
       "</style>\n",
       "<table border=\"1\" class=\"dataframe\">\n",
       "  <thead>\n",
       "    <tr style=\"text-align: right;\">\n",
       "      <th></th>\n",
       "      <th>user_id</th>\n",
       "      <th>ISBN</th>\n",
       "      <th>rating</th>\n",
       "      <th>title</th>\n",
       "      <th>author</th>\n",
       "      <th>year</th>\n",
       "      <th>publisher</th>\n",
       "      <th>image_url</th>\n",
       "      <th>num_of_rating</th>\n",
       "    </tr>\n",
       "  </thead>\n",
       "  <tbody>\n",
       "    <tr>\n",
       "      <th>0</th>\n",
       "      <td>276725</td>\n",
       "      <td>034545104X</td>\n",
       "      <td>0</td>\n",
       "      <td>Flesh Tones: A Novel</td>\n",
       "      <td>M. J. Rose</td>\n",
       "      <td>2002</td>\n",
       "      <td>Ballantine Books</td>\n",
       "      <td>http://images.amazon.com/images/P/034545104X.0...</td>\n",
       "      <td>60</td>\n",
       "    </tr>\n",
       "    <tr>\n",
       "      <th>1</th>\n",
       "      <td>2313</td>\n",
       "      <td>034545104X</td>\n",
       "      <td>5</td>\n",
       "      <td>Flesh Tones: A Novel</td>\n",
       "      <td>M. J. Rose</td>\n",
       "      <td>2002</td>\n",
       "      <td>Ballantine Books</td>\n",
       "      <td>http://images.amazon.com/images/P/034545104X.0...</td>\n",
       "      <td>60</td>\n",
       "    </tr>\n",
       "    <tr>\n",
       "      <th>2</th>\n",
       "      <td>6543</td>\n",
       "      <td>034545104X</td>\n",
       "      <td>0</td>\n",
       "      <td>Flesh Tones: A Novel</td>\n",
       "      <td>M. J. Rose</td>\n",
       "      <td>2002</td>\n",
       "      <td>Ballantine Books</td>\n",
       "      <td>http://images.amazon.com/images/P/034545104X.0...</td>\n",
       "      <td>60</td>\n",
       "    </tr>\n",
       "    <tr>\n",
       "      <th>3</th>\n",
       "      <td>8680</td>\n",
       "      <td>034545104X</td>\n",
       "      <td>5</td>\n",
       "      <td>Flesh Tones: A Novel</td>\n",
       "      <td>M. J. Rose</td>\n",
       "      <td>2002</td>\n",
       "      <td>Ballantine Books</td>\n",
       "      <td>http://images.amazon.com/images/P/034545104X.0...</td>\n",
       "      <td>60</td>\n",
       "    </tr>\n",
       "    <tr>\n",
       "      <th>4</th>\n",
       "      <td>10314</td>\n",
       "      <td>034545104X</td>\n",
       "      <td>9</td>\n",
       "      <td>Flesh Tones: A Novel</td>\n",
       "      <td>M. J. Rose</td>\n",
       "      <td>2002</td>\n",
       "      <td>Ballantine Books</td>\n",
       "      <td>http://images.amazon.com/images/P/034545104X.0...</td>\n",
       "      <td>60</td>\n",
       "    </tr>\n",
       "  </tbody>\n",
       "</table>\n",
       "</div>"
      ],
      "text/plain": [
       "   user_id        ISBN  rating                 title      author  year  \\\n",
       "0   276725  034545104X       0  Flesh Tones: A Novel  M. J. Rose  2002   \n",
       "1     2313  034545104X       5  Flesh Tones: A Novel  M. J. Rose  2002   \n",
       "2     6543  034545104X       0  Flesh Tones: A Novel  M. J. Rose  2002   \n",
       "3     8680  034545104X       5  Flesh Tones: A Novel  M. J. Rose  2002   \n",
       "4    10314  034545104X       9  Flesh Tones: A Novel  M. J. Rose  2002   \n",
       "\n",
       "          publisher                                          image_url  \\\n",
       "0  Ballantine Books  http://images.amazon.com/images/P/034545104X.0...   \n",
       "1  Ballantine Books  http://images.amazon.com/images/P/034545104X.0...   \n",
       "2  Ballantine Books  http://images.amazon.com/images/P/034545104X.0...   \n",
       "3  Ballantine Books  http://images.amazon.com/images/P/034545104X.0...   \n",
       "4  Ballantine Books  http://images.amazon.com/images/P/034545104X.0...   \n",
       "\n",
       "   num_of_rating  \n",
       "0             60  \n",
       "1             60  \n",
       "2             60  \n",
       "3             60  \n",
       "4             60  "
      ]
     },
     "execution_count": 35,
     "metadata": {},
     "output_type": "execute_result"
    }
   ],
   "source": [
    "# Lets take those books which got at least 50 rating of user\n",
    "\n",
    "final_rating = final_rating[final_rating['num_of_rating'] >= 50]\n",
    "final_rating.head()"
   ]
  },
  {
   "cell_type": "code",
   "execution_count": 36,
   "id": "1440acc9",
   "metadata": {},
   "outputs": [
    {
     "data": {
      "text/plain": [
       "(288740, 9)"
      ]
     },
     "execution_count": 36,
     "metadata": {},
     "output_type": "execute_result"
    }
   ],
   "source": [
    "final_rating.shape"
   ]
  },
  {
   "cell_type": "code",
   "execution_count": 37,
   "id": "fb44a964",
   "metadata": {},
   "outputs": [
    {
     "data": {
      "text/plain": [
       "(285518, 9)"
      ]
     },
     "execution_count": 37,
     "metadata": {},
     "output_type": "execute_result"
    }
   ],
   "source": [
    "# lets drop the duplicates\n",
    "final_rating.drop_duplicates(['user_id','title'],inplace=True)\n",
    "final_rating.shape"
   ]
  },
  {
   "cell_type": "code",
   "execution_count": 38,
   "id": "c9a18962",
   "metadata": {},
   "outputs": [],
   "source": [
    "# Lets create a pivot table\n",
    "book_pivot = final_rating.pivot_table(columns='user_id', index='title', values= 'rating')"
   ]
  },
  {
   "cell_type": "code",
   "execution_count": 39,
   "id": "b36aeaf2",
   "metadata": {},
   "outputs": [
    {
     "data": {
      "text/html": [
       "<div>\n",
       "<style scoped>\n",
       "    .dataframe tbody tr th:only-of-type {\n",
       "        vertical-align: middle;\n",
       "    }\n",
       "\n",
       "    .dataframe tbody tr th {\n",
       "        vertical-align: top;\n",
       "    }\n",
       "\n",
       "    .dataframe thead th {\n",
       "        text-align: right;\n",
       "    }\n",
       "</style>\n",
       "<table border=\"1\" class=\"dataframe\">\n",
       "  <thead>\n",
       "    <tr style=\"text-align: right;\">\n",
       "      <th>user_id</th>\n",
       "      <th>8</th>\n",
       "      <th>9</th>\n",
       "      <th>14</th>\n",
       "      <th>16</th>\n",
       "      <th>17</th>\n",
       "      <th>19</th>\n",
       "      <th>23</th>\n",
       "      <th>26</th>\n",
       "      <th>32</th>\n",
       "      <th>39</th>\n",
       "      <th>...</th>\n",
       "      <th>278820</th>\n",
       "      <th>278824</th>\n",
       "      <th>278828</th>\n",
       "      <th>278832</th>\n",
       "      <th>278836</th>\n",
       "      <th>278843</th>\n",
       "      <th>278844</th>\n",
       "      <th>278846</th>\n",
       "      <th>278851</th>\n",
       "      <th>278854</th>\n",
       "    </tr>\n",
       "    <tr>\n",
       "      <th>title</th>\n",
       "      <th></th>\n",
       "      <th></th>\n",
       "      <th></th>\n",
       "      <th></th>\n",
       "      <th></th>\n",
       "      <th></th>\n",
       "      <th></th>\n",
       "      <th></th>\n",
       "      <th></th>\n",
       "      <th></th>\n",
       "      <th></th>\n",
       "      <th></th>\n",
       "      <th></th>\n",
       "      <th></th>\n",
       "      <th></th>\n",
       "      <th></th>\n",
       "      <th></th>\n",
       "      <th></th>\n",
       "      <th></th>\n",
       "      <th></th>\n",
       "      <th></th>\n",
       "    </tr>\n",
       "  </thead>\n",
       "  <tbody>\n",
       "    <tr>\n",
       "      <th>10 Lb. Penalty</th>\n",
       "      <td>NaN</td>\n",
       "      <td>NaN</td>\n",
       "      <td>NaN</td>\n",
       "      <td>NaN</td>\n",
       "      <td>NaN</td>\n",
       "      <td>NaN</td>\n",
       "      <td>NaN</td>\n",
       "      <td>NaN</td>\n",
       "      <td>NaN</td>\n",
       "      <td>NaN</td>\n",
       "      <td>...</td>\n",
       "      <td>NaN</td>\n",
       "      <td>NaN</td>\n",
       "      <td>NaN</td>\n",
       "      <td>NaN</td>\n",
       "      <td>NaN</td>\n",
       "      <td>NaN</td>\n",
       "      <td>NaN</td>\n",
       "      <td>NaN</td>\n",
       "      <td>NaN</td>\n",
       "      <td>NaN</td>\n",
       "    </tr>\n",
       "    <tr>\n",
       "      <th>16 Lighthouse Road</th>\n",
       "      <td>NaN</td>\n",
       "      <td>NaN</td>\n",
       "      <td>NaN</td>\n",
       "      <td>NaN</td>\n",
       "      <td>NaN</td>\n",
       "      <td>NaN</td>\n",
       "      <td>NaN</td>\n",
       "      <td>NaN</td>\n",
       "      <td>NaN</td>\n",
       "      <td>NaN</td>\n",
       "      <td>...</td>\n",
       "      <td>NaN</td>\n",
       "      <td>NaN</td>\n",
       "      <td>NaN</td>\n",
       "      <td>NaN</td>\n",
       "      <td>NaN</td>\n",
       "      <td>NaN</td>\n",
       "      <td>NaN</td>\n",
       "      <td>NaN</td>\n",
       "      <td>NaN</td>\n",
       "      <td>NaN</td>\n",
       "    </tr>\n",
       "    <tr>\n",
       "      <th>1984</th>\n",
       "      <td>NaN</td>\n",
       "      <td>NaN</td>\n",
       "      <td>NaN</td>\n",
       "      <td>NaN</td>\n",
       "      <td>NaN</td>\n",
       "      <td>NaN</td>\n",
       "      <td>NaN</td>\n",
       "      <td>NaN</td>\n",
       "      <td>NaN</td>\n",
       "      <td>NaN</td>\n",
       "      <td>...</td>\n",
       "      <td>NaN</td>\n",
       "      <td>NaN</td>\n",
       "      <td>NaN</td>\n",
       "      <td>NaN</td>\n",
       "      <td>NaN</td>\n",
       "      <td>NaN</td>\n",
       "      <td>NaN</td>\n",
       "      <td>NaN</td>\n",
       "      <td>NaN</td>\n",
       "      <td>NaN</td>\n",
       "    </tr>\n",
       "    <tr>\n",
       "      <th>1st to Die: A Novel</th>\n",
       "      <td>NaN</td>\n",
       "      <td>NaN</td>\n",
       "      <td>NaN</td>\n",
       "      <td>NaN</td>\n",
       "      <td>NaN</td>\n",
       "      <td>NaN</td>\n",
       "      <td>NaN</td>\n",
       "      <td>NaN</td>\n",
       "      <td>NaN</td>\n",
       "      <td>NaN</td>\n",
       "      <td>...</td>\n",
       "      <td>NaN</td>\n",
       "      <td>NaN</td>\n",
       "      <td>NaN</td>\n",
       "      <td>NaN</td>\n",
       "      <td>NaN</td>\n",
       "      <td>NaN</td>\n",
       "      <td>NaN</td>\n",
       "      <td>NaN</td>\n",
       "      <td>NaN</td>\n",
       "      <td>NaN</td>\n",
       "    </tr>\n",
       "    <tr>\n",
       "      <th>2010: Odyssey Two</th>\n",
       "      <td>NaN</td>\n",
       "      <td>NaN</td>\n",
       "      <td>NaN</td>\n",
       "      <td>NaN</td>\n",
       "      <td>NaN</td>\n",
       "      <td>NaN</td>\n",
       "      <td>NaN</td>\n",
       "      <td>NaN</td>\n",
       "      <td>NaN</td>\n",
       "      <td>NaN</td>\n",
       "      <td>...</td>\n",
       "      <td>NaN</td>\n",
       "      <td>NaN</td>\n",
       "      <td>NaN</td>\n",
       "      <td>NaN</td>\n",
       "      <td>NaN</td>\n",
       "      <td>NaN</td>\n",
       "      <td>NaN</td>\n",
       "      <td>NaN</td>\n",
       "      <td>NaN</td>\n",
       "      <td>NaN</td>\n",
       "    </tr>\n",
       "    <tr>\n",
       "      <th>...</th>\n",
       "      <td>...</td>\n",
       "      <td>...</td>\n",
       "      <td>...</td>\n",
       "      <td>...</td>\n",
       "      <td>...</td>\n",
       "      <td>...</td>\n",
       "      <td>...</td>\n",
       "      <td>...</td>\n",
       "      <td>...</td>\n",
       "      <td>...</td>\n",
       "      <td>...</td>\n",
       "      <td>...</td>\n",
       "      <td>...</td>\n",
       "      <td>...</td>\n",
       "      <td>...</td>\n",
       "      <td>...</td>\n",
       "      <td>...</td>\n",
       "      <td>...</td>\n",
       "      <td>...</td>\n",
       "      <td>...</td>\n",
       "      <td>...</td>\n",
       "    </tr>\n",
       "    <tr>\n",
       "      <th>Zen and the Art of Motorcycle Maintenance: An Inquiry into Values</th>\n",
       "      <td>NaN</td>\n",
       "      <td>NaN</td>\n",
       "      <td>NaN</td>\n",
       "      <td>NaN</td>\n",
       "      <td>NaN</td>\n",
       "      <td>NaN</td>\n",
       "      <td>NaN</td>\n",
       "      <td>NaN</td>\n",
       "      <td>NaN</td>\n",
       "      <td>NaN</td>\n",
       "      <td>...</td>\n",
       "      <td>NaN</td>\n",
       "      <td>NaN</td>\n",
       "      <td>NaN</td>\n",
       "      <td>NaN</td>\n",
       "      <td>NaN</td>\n",
       "      <td>NaN</td>\n",
       "      <td>NaN</td>\n",
       "      <td>NaN</td>\n",
       "      <td>NaN</td>\n",
       "      <td>NaN</td>\n",
       "    </tr>\n",
       "    <tr>\n",
       "      <th>Zoya</th>\n",
       "      <td>NaN</td>\n",
       "      <td>NaN</td>\n",
       "      <td>NaN</td>\n",
       "      <td>NaN</td>\n",
       "      <td>NaN</td>\n",
       "      <td>NaN</td>\n",
       "      <td>NaN</td>\n",
       "      <td>NaN</td>\n",
       "      <td>NaN</td>\n",
       "      <td>NaN</td>\n",
       "      <td>...</td>\n",
       "      <td>NaN</td>\n",
       "      <td>NaN</td>\n",
       "      <td>NaN</td>\n",
       "      <td>NaN</td>\n",
       "      <td>NaN</td>\n",
       "      <td>NaN</td>\n",
       "      <td>NaN</td>\n",
       "      <td>NaN</td>\n",
       "      <td>NaN</td>\n",
       "      <td>NaN</td>\n",
       "    </tr>\n",
       "    <tr>\n",
       "      <th>\\O\\\" Is for Outlaw\"</th>\n",
       "      <td>NaN</td>\n",
       "      <td>NaN</td>\n",
       "      <td>NaN</td>\n",
       "      <td>NaN</td>\n",
       "      <td>NaN</td>\n",
       "      <td>NaN</td>\n",
       "      <td>NaN</td>\n",
       "      <td>NaN</td>\n",
       "      <td>NaN</td>\n",
       "      <td>NaN</td>\n",
       "      <td>...</td>\n",
       "      <td>NaN</td>\n",
       "      <td>NaN</td>\n",
       "      <td>NaN</td>\n",
       "      <td>NaN</td>\n",
       "      <td>NaN</td>\n",
       "      <td>NaN</td>\n",
       "      <td>NaN</td>\n",
       "      <td>NaN</td>\n",
       "      <td>NaN</td>\n",
       "      <td>NaN</td>\n",
       "    </tr>\n",
       "    <tr>\n",
       "      <th>\\Surely You're Joking, Mr. Feynman!\\\": Adventures of a Curious Character\"</th>\n",
       "      <td>NaN</td>\n",
       "      <td>NaN</td>\n",
       "      <td>NaN</td>\n",
       "      <td>NaN</td>\n",
       "      <td>NaN</td>\n",
       "      <td>NaN</td>\n",
       "      <td>NaN</td>\n",
       "      <td>NaN</td>\n",
       "      <td>NaN</td>\n",
       "      <td>NaN</td>\n",
       "      <td>...</td>\n",
       "      <td>NaN</td>\n",
       "      <td>NaN</td>\n",
       "      <td>NaN</td>\n",
       "      <td>NaN</td>\n",
       "      <td>NaN</td>\n",
       "      <td>NaN</td>\n",
       "      <td>NaN</td>\n",
       "      <td>NaN</td>\n",
       "      <td>NaN</td>\n",
       "      <td>NaN</td>\n",
       "    </tr>\n",
       "    <tr>\n",
       "      <th>stardust</th>\n",
       "      <td>NaN</td>\n",
       "      <td>NaN</td>\n",
       "      <td>NaN</td>\n",
       "      <td>NaN</td>\n",
       "      <td>NaN</td>\n",
       "      <td>NaN</td>\n",
       "      <td>NaN</td>\n",
       "      <td>NaN</td>\n",
       "      <td>NaN</td>\n",
       "      <td>NaN</td>\n",
       "      <td>...</td>\n",
       "      <td>NaN</td>\n",
       "      <td>NaN</td>\n",
       "      <td>NaN</td>\n",
       "      <td>NaN</td>\n",
       "      <td>NaN</td>\n",
       "      <td>NaN</td>\n",
       "      <td>NaN</td>\n",
       "      <td>NaN</td>\n",
       "      <td>NaN</td>\n",
       "      <td>NaN</td>\n",
       "    </tr>\n",
       "  </tbody>\n",
       "</table>\n",
       "<p>2444 rows × 47994 columns</p>\n",
       "</div>"
      ],
      "text/plain": [
       "user_id                                             8       9       14      \\\n",
       "title                                                                        \n",
       "10 Lb. Penalty                                         NaN     NaN     NaN   \n",
       "16 Lighthouse Road                                     NaN     NaN     NaN   \n",
       "1984                                                   NaN     NaN     NaN   \n",
       "1st to Die: A Novel                                    NaN     NaN     NaN   \n",
       "2010: Odyssey Two                                      NaN     NaN     NaN   \n",
       "...                                                    ...     ...     ...   \n",
       "Zen and the Art of Motorcycle Maintenance: An I...     NaN     NaN     NaN   \n",
       "Zoya                                                   NaN     NaN     NaN   \n",
       "\\O\\\" Is for Outlaw\"                                    NaN     NaN     NaN   \n",
       "\\Surely You're Joking, Mr. Feynman!\\\": Adventur...     NaN     NaN     NaN   \n",
       "stardust                                               NaN     NaN     NaN   \n",
       "\n",
       "user_id                                             16      17      19      \\\n",
       "title                                                                        \n",
       "10 Lb. Penalty                                         NaN     NaN     NaN   \n",
       "16 Lighthouse Road                                     NaN     NaN     NaN   \n",
       "1984                                                   NaN     NaN     NaN   \n",
       "1st to Die: A Novel                                    NaN     NaN     NaN   \n",
       "2010: Odyssey Two                                      NaN     NaN     NaN   \n",
       "...                                                    ...     ...     ...   \n",
       "Zen and the Art of Motorcycle Maintenance: An I...     NaN     NaN     NaN   \n",
       "Zoya                                                   NaN     NaN     NaN   \n",
       "\\O\\\" Is for Outlaw\"                                    NaN     NaN     NaN   \n",
       "\\Surely You're Joking, Mr. Feynman!\\\": Adventur...     NaN     NaN     NaN   \n",
       "stardust                                               NaN     NaN     NaN   \n",
       "\n",
       "user_id                                             23      26      32      \\\n",
       "title                                                                        \n",
       "10 Lb. Penalty                                         NaN     NaN     NaN   \n",
       "16 Lighthouse Road                                     NaN     NaN     NaN   \n",
       "1984                                                   NaN     NaN     NaN   \n",
       "1st to Die: A Novel                                    NaN     NaN     NaN   \n",
       "2010: Odyssey Two                                      NaN     NaN     NaN   \n",
       "...                                                    ...     ...     ...   \n",
       "Zen and the Art of Motorcycle Maintenance: An I...     NaN     NaN     NaN   \n",
       "Zoya                                                   NaN     NaN     NaN   \n",
       "\\O\\\" Is for Outlaw\"                                    NaN     NaN     NaN   \n",
       "\\Surely You're Joking, Mr. Feynman!\\\": Adventur...     NaN     NaN     NaN   \n",
       "stardust                                               NaN     NaN     NaN   \n",
       "\n",
       "user_id                                             39      ...  278820  \\\n",
       "title                                                       ...           \n",
       "10 Lb. Penalty                                         NaN  ...     NaN   \n",
       "16 Lighthouse Road                                     NaN  ...     NaN   \n",
       "1984                                                   NaN  ...     NaN   \n",
       "1st to Die: A Novel                                    NaN  ...     NaN   \n",
       "2010: Odyssey Two                                      NaN  ...     NaN   \n",
       "...                                                    ...  ...     ...   \n",
       "Zen and the Art of Motorcycle Maintenance: An I...     NaN  ...     NaN   \n",
       "Zoya                                                   NaN  ...     NaN   \n",
       "\\O\\\" Is for Outlaw\"                                    NaN  ...     NaN   \n",
       "\\Surely You're Joking, Mr. Feynman!\\\": Adventur...     NaN  ...     NaN   \n",
       "stardust                                               NaN  ...     NaN   \n",
       "\n",
       "user_id                                             278824  278828  278832  \\\n",
       "title                                                                        \n",
       "10 Lb. Penalty                                         NaN     NaN     NaN   \n",
       "16 Lighthouse Road                                     NaN     NaN     NaN   \n",
       "1984                                                   NaN     NaN     NaN   \n",
       "1st to Die: A Novel                                    NaN     NaN     NaN   \n",
       "2010: Odyssey Two                                      NaN     NaN     NaN   \n",
       "...                                                    ...     ...     ...   \n",
       "Zen and the Art of Motorcycle Maintenance: An I...     NaN     NaN     NaN   \n",
       "Zoya                                                   NaN     NaN     NaN   \n",
       "\\O\\\" Is for Outlaw\"                                    NaN     NaN     NaN   \n",
       "\\Surely You're Joking, Mr. Feynman!\\\": Adventur...     NaN     NaN     NaN   \n",
       "stardust                                               NaN     NaN     NaN   \n",
       "\n",
       "user_id                                             278836  278843  278844  \\\n",
       "title                                                                        \n",
       "10 Lb. Penalty                                         NaN     NaN     NaN   \n",
       "16 Lighthouse Road                                     NaN     NaN     NaN   \n",
       "1984                                                   NaN     NaN     NaN   \n",
       "1st to Die: A Novel                                    NaN     NaN     NaN   \n",
       "2010: Odyssey Two                                      NaN     NaN     NaN   \n",
       "...                                                    ...     ...     ...   \n",
       "Zen and the Art of Motorcycle Maintenance: An I...     NaN     NaN     NaN   \n",
       "Zoya                                                   NaN     NaN     NaN   \n",
       "\\O\\\" Is for Outlaw\"                                    NaN     NaN     NaN   \n",
       "\\Surely You're Joking, Mr. Feynman!\\\": Adventur...     NaN     NaN     NaN   \n",
       "stardust                                               NaN     NaN     NaN   \n",
       "\n",
       "user_id                                             278846  278851  278854  \n",
       "title                                                                       \n",
       "10 Lb. Penalty                                         NaN     NaN     NaN  \n",
       "16 Lighthouse Road                                     NaN     NaN     NaN  \n",
       "1984                                                   NaN     NaN     NaN  \n",
       "1st to Die: A Novel                                    NaN     NaN     NaN  \n",
       "2010: Odyssey Two                                      NaN     NaN     NaN  \n",
       "...                                                    ...     ...     ...  \n",
       "Zen and the Art of Motorcycle Maintenance: An I...     NaN     NaN     NaN  \n",
       "Zoya                                                   NaN     NaN     NaN  \n",
       "\\O\\\" Is for Outlaw\"                                    NaN     NaN     NaN  \n",
       "\\Surely You're Joking, Mr. Feynman!\\\": Adventur...     NaN     NaN     NaN  \n",
       "stardust                                               NaN     NaN     NaN  \n",
       "\n",
       "[2444 rows x 47994 columns]"
      ]
     },
     "execution_count": 39,
     "metadata": {},
     "output_type": "execute_result"
    }
   ],
   "source": [
    "book_pivot"
   ]
  },
  {
   "cell_type": "code",
   "execution_count": 40,
   "id": "9100915d",
   "metadata": {},
   "outputs": [],
   "source": [
    "book_pivot.fillna(0, inplace=True)"
   ]
  },
  {
   "cell_type": "code",
   "execution_count": 41,
   "id": "61623622",
   "metadata": {},
   "outputs": [
    {
     "data": {
      "text/html": [
       "<div>\n",
       "<style scoped>\n",
       "    .dataframe tbody tr th:only-of-type {\n",
       "        vertical-align: middle;\n",
       "    }\n",
       "\n",
       "    .dataframe tbody tr th {\n",
       "        vertical-align: top;\n",
       "    }\n",
       "\n",
       "    .dataframe thead th {\n",
       "        text-align: right;\n",
       "    }\n",
       "</style>\n",
       "<table border=\"1\" class=\"dataframe\">\n",
       "  <thead>\n",
       "    <tr style=\"text-align: right;\">\n",
       "      <th>user_id</th>\n",
       "      <th>8</th>\n",
       "      <th>9</th>\n",
       "      <th>14</th>\n",
       "      <th>16</th>\n",
       "      <th>17</th>\n",
       "      <th>19</th>\n",
       "      <th>23</th>\n",
       "      <th>26</th>\n",
       "      <th>32</th>\n",
       "      <th>39</th>\n",
       "      <th>...</th>\n",
       "      <th>278820</th>\n",
       "      <th>278824</th>\n",
       "      <th>278828</th>\n",
       "      <th>278832</th>\n",
       "      <th>278836</th>\n",
       "      <th>278843</th>\n",
       "      <th>278844</th>\n",
       "      <th>278846</th>\n",
       "      <th>278851</th>\n",
       "      <th>278854</th>\n",
       "    </tr>\n",
       "    <tr>\n",
       "      <th>title</th>\n",
       "      <th></th>\n",
       "      <th></th>\n",
       "      <th></th>\n",
       "      <th></th>\n",
       "      <th></th>\n",
       "      <th></th>\n",
       "      <th></th>\n",
       "      <th></th>\n",
       "      <th></th>\n",
       "      <th></th>\n",
       "      <th></th>\n",
       "      <th></th>\n",
       "      <th></th>\n",
       "      <th></th>\n",
       "      <th></th>\n",
       "      <th></th>\n",
       "      <th></th>\n",
       "      <th></th>\n",
       "      <th></th>\n",
       "      <th></th>\n",
       "      <th></th>\n",
       "    </tr>\n",
       "  </thead>\n",
       "  <tbody>\n",
       "    <tr>\n",
       "      <th>10 Lb. Penalty</th>\n",
       "      <td>0.0</td>\n",
       "      <td>0.0</td>\n",
       "      <td>0.0</td>\n",
       "      <td>0.0</td>\n",
       "      <td>0.0</td>\n",
       "      <td>0.0</td>\n",
       "      <td>0.0</td>\n",
       "      <td>0.0</td>\n",
       "      <td>0.0</td>\n",
       "      <td>0.0</td>\n",
       "      <td>...</td>\n",
       "      <td>0.0</td>\n",
       "      <td>0.0</td>\n",
       "      <td>0.0</td>\n",
       "      <td>0.0</td>\n",
       "      <td>0.0</td>\n",
       "      <td>0.0</td>\n",
       "      <td>0.0</td>\n",
       "      <td>0.0</td>\n",
       "      <td>0.0</td>\n",
       "      <td>0.0</td>\n",
       "    </tr>\n",
       "    <tr>\n",
       "      <th>16 Lighthouse Road</th>\n",
       "      <td>0.0</td>\n",
       "      <td>0.0</td>\n",
       "      <td>0.0</td>\n",
       "      <td>0.0</td>\n",
       "      <td>0.0</td>\n",
       "      <td>0.0</td>\n",
       "      <td>0.0</td>\n",
       "      <td>0.0</td>\n",
       "      <td>0.0</td>\n",
       "      <td>0.0</td>\n",
       "      <td>...</td>\n",
       "      <td>0.0</td>\n",
       "      <td>0.0</td>\n",
       "      <td>0.0</td>\n",
       "      <td>0.0</td>\n",
       "      <td>0.0</td>\n",
       "      <td>0.0</td>\n",
       "      <td>0.0</td>\n",
       "      <td>0.0</td>\n",
       "      <td>0.0</td>\n",
       "      <td>0.0</td>\n",
       "    </tr>\n",
       "    <tr>\n",
       "      <th>1984</th>\n",
       "      <td>0.0</td>\n",
       "      <td>0.0</td>\n",
       "      <td>0.0</td>\n",
       "      <td>0.0</td>\n",
       "      <td>0.0</td>\n",
       "      <td>0.0</td>\n",
       "      <td>0.0</td>\n",
       "      <td>0.0</td>\n",
       "      <td>0.0</td>\n",
       "      <td>0.0</td>\n",
       "      <td>...</td>\n",
       "      <td>0.0</td>\n",
       "      <td>0.0</td>\n",
       "      <td>0.0</td>\n",
       "      <td>0.0</td>\n",
       "      <td>0.0</td>\n",
       "      <td>0.0</td>\n",
       "      <td>0.0</td>\n",
       "      <td>0.0</td>\n",
       "      <td>0.0</td>\n",
       "      <td>0.0</td>\n",
       "    </tr>\n",
       "    <tr>\n",
       "      <th>1st to Die: A Novel</th>\n",
       "      <td>0.0</td>\n",
       "      <td>0.0</td>\n",
       "      <td>0.0</td>\n",
       "      <td>0.0</td>\n",
       "      <td>0.0</td>\n",
       "      <td>0.0</td>\n",
       "      <td>0.0</td>\n",
       "      <td>0.0</td>\n",
       "      <td>0.0</td>\n",
       "      <td>0.0</td>\n",
       "      <td>...</td>\n",
       "      <td>0.0</td>\n",
       "      <td>0.0</td>\n",
       "      <td>0.0</td>\n",
       "      <td>0.0</td>\n",
       "      <td>0.0</td>\n",
       "      <td>0.0</td>\n",
       "      <td>0.0</td>\n",
       "      <td>0.0</td>\n",
       "      <td>0.0</td>\n",
       "      <td>0.0</td>\n",
       "    </tr>\n",
       "    <tr>\n",
       "      <th>2010: Odyssey Two</th>\n",
       "      <td>0.0</td>\n",
       "      <td>0.0</td>\n",
       "      <td>0.0</td>\n",
       "      <td>0.0</td>\n",
       "      <td>0.0</td>\n",
       "      <td>0.0</td>\n",
       "      <td>0.0</td>\n",
       "      <td>0.0</td>\n",
       "      <td>0.0</td>\n",
       "      <td>0.0</td>\n",
       "      <td>...</td>\n",
       "      <td>0.0</td>\n",
       "      <td>0.0</td>\n",
       "      <td>0.0</td>\n",
       "      <td>0.0</td>\n",
       "      <td>0.0</td>\n",
       "      <td>0.0</td>\n",
       "      <td>0.0</td>\n",
       "      <td>0.0</td>\n",
       "      <td>0.0</td>\n",
       "      <td>0.0</td>\n",
       "    </tr>\n",
       "    <tr>\n",
       "      <th>...</th>\n",
       "      <td>...</td>\n",
       "      <td>...</td>\n",
       "      <td>...</td>\n",
       "      <td>...</td>\n",
       "      <td>...</td>\n",
       "      <td>...</td>\n",
       "      <td>...</td>\n",
       "      <td>...</td>\n",
       "      <td>...</td>\n",
       "      <td>...</td>\n",
       "      <td>...</td>\n",
       "      <td>...</td>\n",
       "      <td>...</td>\n",
       "      <td>...</td>\n",
       "      <td>...</td>\n",
       "      <td>...</td>\n",
       "      <td>...</td>\n",
       "      <td>...</td>\n",
       "      <td>...</td>\n",
       "      <td>...</td>\n",
       "      <td>...</td>\n",
       "    </tr>\n",
       "    <tr>\n",
       "      <th>Zen and the Art of Motorcycle Maintenance: An Inquiry into Values</th>\n",
       "      <td>0.0</td>\n",
       "      <td>0.0</td>\n",
       "      <td>0.0</td>\n",
       "      <td>0.0</td>\n",
       "      <td>0.0</td>\n",
       "      <td>0.0</td>\n",
       "      <td>0.0</td>\n",
       "      <td>0.0</td>\n",
       "      <td>0.0</td>\n",
       "      <td>0.0</td>\n",
       "      <td>...</td>\n",
       "      <td>0.0</td>\n",
       "      <td>0.0</td>\n",
       "      <td>0.0</td>\n",
       "      <td>0.0</td>\n",
       "      <td>0.0</td>\n",
       "      <td>0.0</td>\n",
       "      <td>0.0</td>\n",
       "      <td>0.0</td>\n",
       "      <td>0.0</td>\n",
       "      <td>0.0</td>\n",
       "    </tr>\n",
       "    <tr>\n",
       "      <th>Zoya</th>\n",
       "      <td>0.0</td>\n",
       "      <td>0.0</td>\n",
       "      <td>0.0</td>\n",
       "      <td>0.0</td>\n",
       "      <td>0.0</td>\n",
       "      <td>0.0</td>\n",
       "      <td>0.0</td>\n",
       "      <td>0.0</td>\n",
       "      <td>0.0</td>\n",
       "      <td>0.0</td>\n",
       "      <td>...</td>\n",
       "      <td>0.0</td>\n",
       "      <td>0.0</td>\n",
       "      <td>0.0</td>\n",
       "      <td>0.0</td>\n",
       "      <td>0.0</td>\n",
       "      <td>0.0</td>\n",
       "      <td>0.0</td>\n",
       "      <td>0.0</td>\n",
       "      <td>0.0</td>\n",
       "      <td>0.0</td>\n",
       "    </tr>\n",
       "    <tr>\n",
       "      <th>\\O\\\" Is for Outlaw\"</th>\n",
       "      <td>0.0</td>\n",
       "      <td>0.0</td>\n",
       "      <td>0.0</td>\n",
       "      <td>0.0</td>\n",
       "      <td>0.0</td>\n",
       "      <td>0.0</td>\n",
       "      <td>0.0</td>\n",
       "      <td>0.0</td>\n",
       "      <td>0.0</td>\n",
       "      <td>0.0</td>\n",
       "      <td>...</td>\n",
       "      <td>0.0</td>\n",
       "      <td>0.0</td>\n",
       "      <td>0.0</td>\n",
       "      <td>0.0</td>\n",
       "      <td>0.0</td>\n",
       "      <td>0.0</td>\n",
       "      <td>0.0</td>\n",
       "      <td>0.0</td>\n",
       "      <td>0.0</td>\n",
       "      <td>0.0</td>\n",
       "    </tr>\n",
       "    <tr>\n",
       "      <th>\\Surely You're Joking, Mr. Feynman!\\\": Adventures of a Curious Character\"</th>\n",
       "      <td>0.0</td>\n",
       "      <td>0.0</td>\n",
       "      <td>0.0</td>\n",
       "      <td>0.0</td>\n",
       "      <td>0.0</td>\n",
       "      <td>0.0</td>\n",
       "      <td>0.0</td>\n",
       "      <td>0.0</td>\n",
       "      <td>0.0</td>\n",
       "      <td>0.0</td>\n",
       "      <td>...</td>\n",
       "      <td>0.0</td>\n",
       "      <td>0.0</td>\n",
       "      <td>0.0</td>\n",
       "      <td>0.0</td>\n",
       "      <td>0.0</td>\n",
       "      <td>0.0</td>\n",
       "      <td>0.0</td>\n",
       "      <td>0.0</td>\n",
       "      <td>0.0</td>\n",
       "      <td>0.0</td>\n",
       "    </tr>\n",
       "    <tr>\n",
       "      <th>stardust</th>\n",
       "      <td>0.0</td>\n",
       "      <td>0.0</td>\n",
       "      <td>0.0</td>\n",
       "      <td>0.0</td>\n",
       "      <td>0.0</td>\n",
       "      <td>0.0</td>\n",
       "      <td>0.0</td>\n",
       "      <td>0.0</td>\n",
       "      <td>0.0</td>\n",
       "      <td>0.0</td>\n",
       "      <td>...</td>\n",
       "      <td>0.0</td>\n",
       "      <td>0.0</td>\n",
       "      <td>0.0</td>\n",
       "      <td>0.0</td>\n",
       "      <td>0.0</td>\n",
       "      <td>0.0</td>\n",
       "      <td>0.0</td>\n",
       "      <td>0.0</td>\n",
       "      <td>0.0</td>\n",
       "      <td>0.0</td>\n",
       "    </tr>\n",
       "  </tbody>\n",
       "</table>\n",
       "<p>2444 rows × 47994 columns</p>\n",
       "</div>"
      ],
      "text/plain": [
       "user_id                                             8       9       14      \\\n",
       "title                                                                        \n",
       "10 Lb. Penalty                                         0.0     0.0     0.0   \n",
       "16 Lighthouse Road                                     0.0     0.0     0.0   \n",
       "1984                                                   0.0     0.0     0.0   \n",
       "1st to Die: A Novel                                    0.0     0.0     0.0   \n",
       "2010: Odyssey Two                                      0.0     0.0     0.0   \n",
       "...                                                    ...     ...     ...   \n",
       "Zen and the Art of Motorcycle Maintenance: An I...     0.0     0.0     0.0   \n",
       "Zoya                                                   0.0     0.0     0.0   \n",
       "\\O\\\" Is for Outlaw\"                                    0.0     0.0     0.0   \n",
       "\\Surely You're Joking, Mr. Feynman!\\\": Adventur...     0.0     0.0     0.0   \n",
       "stardust                                               0.0     0.0     0.0   \n",
       "\n",
       "user_id                                             16      17      19      \\\n",
       "title                                                                        \n",
       "10 Lb. Penalty                                         0.0     0.0     0.0   \n",
       "16 Lighthouse Road                                     0.0     0.0     0.0   \n",
       "1984                                                   0.0     0.0     0.0   \n",
       "1st to Die: A Novel                                    0.0     0.0     0.0   \n",
       "2010: Odyssey Two                                      0.0     0.0     0.0   \n",
       "...                                                    ...     ...     ...   \n",
       "Zen and the Art of Motorcycle Maintenance: An I...     0.0     0.0     0.0   \n",
       "Zoya                                                   0.0     0.0     0.0   \n",
       "\\O\\\" Is for Outlaw\"                                    0.0     0.0     0.0   \n",
       "\\Surely You're Joking, Mr. Feynman!\\\": Adventur...     0.0     0.0     0.0   \n",
       "stardust                                               0.0     0.0     0.0   \n",
       "\n",
       "user_id                                             23      26      32      \\\n",
       "title                                                                        \n",
       "10 Lb. Penalty                                         0.0     0.0     0.0   \n",
       "16 Lighthouse Road                                     0.0     0.0     0.0   \n",
       "1984                                                   0.0     0.0     0.0   \n",
       "1st to Die: A Novel                                    0.0     0.0     0.0   \n",
       "2010: Odyssey Two                                      0.0     0.0     0.0   \n",
       "...                                                    ...     ...     ...   \n",
       "Zen and the Art of Motorcycle Maintenance: An I...     0.0     0.0     0.0   \n",
       "Zoya                                                   0.0     0.0     0.0   \n",
       "\\O\\\" Is for Outlaw\"                                    0.0     0.0     0.0   \n",
       "\\Surely You're Joking, Mr. Feynman!\\\": Adventur...     0.0     0.0     0.0   \n",
       "stardust                                               0.0     0.0     0.0   \n",
       "\n",
       "user_id                                             39      ...  278820  \\\n",
       "title                                                       ...           \n",
       "10 Lb. Penalty                                         0.0  ...     0.0   \n",
       "16 Lighthouse Road                                     0.0  ...     0.0   \n",
       "1984                                                   0.0  ...     0.0   \n",
       "1st to Die: A Novel                                    0.0  ...     0.0   \n",
       "2010: Odyssey Two                                      0.0  ...     0.0   \n",
       "...                                                    ...  ...     ...   \n",
       "Zen and the Art of Motorcycle Maintenance: An I...     0.0  ...     0.0   \n",
       "Zoya                                                   0.0  ...     0.0   \n",
       "\\O\\\" Is for Outlaw\"                                    0.0  ...     0.0   \n",
       "\\Surely You're Joking, Mr. Feynman!\\\": Adventur...     0.0  ...     0.0   \n",
       "stardust                                               0.0  ...     0.0   \n",
       "\n",
       "user_id                                             278824  278828  278832  \\\n",
       "title                                                                        \n",
       "10 Lb. Penalty                                         0.0     0.0     0.0   \n",
       "16 Lighthouse Road                                     0.0     0.0     0.0   \n",
       "1984                                                   0.0     0.0     0.0   \n",
       "1st to Die: A Novel                                    0.0     0.0     0.0   \n",
       "2010: Odyssey Two                                      0.0     0.0     0.0   \n",
       "...                                                    ...     ...     ...   \n",
       "Zen and the Art of Motorcycle Maintenance: An I...     0.0     0.0     0.0   \n",
       "Zoya                                                   0.0     0.0     0.0   \n",
       "\\O\\\" Is for Outlaw\"                                    0.0     0.0     0.0   \n",
       "\\Surely You're Joking, Mr. Feynman!\\\": Adventur...     0.0     0.0     0.0   \n",
       "stardust                                               0.0     0.0     0.0   \n",
       "\n",
       "user_id                                             278836  278843  278844  \\\n",
       "title                                                                        \n",
       "10 Lb. Penalty                                         0.0     0.0     0.0   \n",
       "16 Lighthouse Road                                     0.0     0.0     0.0   \n",
       "1984                                                   0.0     0.0     0.0   \n",
       "1st to Die: A Novel                                    0.0     0.0     0.0   \n",
       "2010: Odyssey Two                                      0.0     0.0     0.0   \n",
       "...                                                    ...     ...     ...   \n",
       "Zen and the Art of Motorcycle Maintenance: An I...     0.0     0.0     0.0   \n",
       "Zoya                                                   0.0     0.0     0.0   \n",
       "\\O\\\" Is for Outlaw\"                                    0.0     0.0     0.0   \n",
       "\\Surely You're Joking, Mr. Feynman!\\\": Adventur...     0.0     0.0     0.0   \n",
       "stardust                                               0.0     0.0     0.0   \n",
       "\n",
       "user_id                                             278846  278851  278854  \n",
       "title                                                                       \n",
       "10 Lb. Penalty                                         0.0     0.0     0.0  \n",
       "16 Lighthouse Road                                     0.0     0.0     0.0  \n",
       "1984                                                   0.0     0.0     0.0  \n",
       "1st to Die: A Novel                                    0.0     0.0     0.0  \n",
       "2010: Odyssey Two                                      0.0     0.0     0.0  \n",
       "...                                                    ...     ...     ...  \n",
       "Zen and the Art of Motorcycle Maintenance: An I...     0.0     0.0     0.0  \n",
       "Zoya                                                   0.0     0.0     0.0  \n",
       "\\O\\\" Is for Outlaw\"                                    0.0     0.0     0.0  \n",
       "\\Surely You're Joking, Mr. Feynman!\\\": Adventur...     0.0     0.0     0.0  \n",
       "stardust                                               0.0     0.0     0.0  \n",
       "\n",
       "[2444 rows x 47994 columns]"
      ]
     },
     "execution_count": 41,
     "metadata": {},
     "output_type": "execute_result"
    }
   ],
   "source": [
    "book_pivot"
   ]
  },
  {
   "cell_type": "markdown",
   "id": "aff4820f",
   "metadata": {},
   "source": [
    "# Training Model"
   ]
  },
  {
   "cell_type": "code",
   "execution_count": 42,
   "id": "a3c94779",
   "metadata": {},
   "outputs": [],
   "source": [
    "from scipy.sparse import csr_matrix"
   ]
  },
  {
   "cell_type": "code",
   "execution_count": 43,
   "id": "f61a1da8",
   "metadata": {},
   "outputs": [],
   "source": [
    "book_sparse = csr_matrix(book_pivot)"
   ]
  },
  {
   "cell_type": "code",
   "execution_count": 64,
   "id": "1539ac05",
   "metadata": {},
   "outputs": [
    {
     "data": {
      "text/plain": [
       "<2444x47994 sparse matrix of type '<class 'numpy.float64'>'\n",
       "\twith 113444 stored elements in Compressed Sparse Row format>"
      ]
     },
     "execution_count": 64,
     "metadata": {},
     "output_type": "execute_result"
    }
   ],
   "source": [
    "book_sparse"
   ]
  },
  {
   "cell_type": "code",
   "execution_count": 44,
   "id": "bbfe6c95",
   "metadata": {},
   "outputs": [
    {
     "data": {
      "text/plain": [
       "scipy.sparse.csr.csr_matrix"
      ]
     },
     "execution_count": 44,
     "metadata": {},
     "output_type": "execute_result"
    }
   ],
   "source": [
    "type(book_sparse)"
   ]
  },
  {
   "cell_type": "markdown",
   "id": "0432638f",
   "metadata": {},
   "source": [
    "# clustering"
   ]
  },
  {
   "cell_type": "code",
   "execution_count": 45,
   "id": "2c41a55d",
   "metadata": {},
   "outputs": [],
   "source": [
    "# Now import our clustering algoritm which is Nearest Neighbors this is an unsupervised ml algo\n",
    "from sklearn.neighbors import NearestNeighbors\n",
    "model = NearestNeighbors(algorithm= 'brute')"
   ]
  },
  {
   "cell_type": "code",
   "execution_count": 46,
   "id": "4bbded40",
   "metadata": {},
   "outputs": [
    {
     "data": {
      "text/plain": [
       "NearestNeighbors(algorithm='brute')"
      ]
     },
     "execution_count": 46,
     "metadata": {},
     "output_type": "execute_result"
    }
   ],
   "source": [
    "model.fit(book_sparse)"
   ]
  },
  {
   "cell_type": "code",
   "execution_count": 47,
   "id": "8c270ca1",
   "metadata": {},
   "outputs": [],
   "source": [
    "distance, suggestion = model.kneighbors(book_pivot.iloc[237,:].values.reshape(1,-1), n_neighbors=6 )"
   ]
  },
  {
   "cell_type": "code",
   "execution_count": 48,
   "id": "3fbb30e9",
   "metadata": {},
   "outputs": [
    {
     "data": {
      "text/plain": [
       "array([[ 0.        , 73.70888685, 74.13501197, 74.14849965, 74.25631286,\n",
       "        74.42445835]])"
      ]
     },
     "execution_count": 48,
     "metadata": {},
     "output_type": "execute_result"
    }
   ],
   "source": [
    "distance"
   ]
  },
  {
   "cell_type": "code",
   "execution_count": 49,
   "id": "982aa48c",
   "metadata": {},
   "outputs": [
    {
     "data": {
      "text/plain": [
       "array([[ 237, 1391, 1713,  770,   65,  284]], dtype=int64)"
      ]
     },
     "execution_count": 49,
     "metadata": {},
     "output_type": "execute_result"
    }
   ],
   "source": [
    "suggestion"
   ]
  },
  {
   "cell_type": "code",
   "execution_count": 50,
   "id": "7f89ba6a",
   "metadata": {},
   "outputs": [
    {
     "data": {
      "text/plain": [
       "user_id\n",
       "8         0.0\n",
       "9         0.0\n",
       "14        0.0\n",
       "16        0.0\n",
       "17        0.0\n",
       "         ... \n",
       "278843    0.0\n",
       "278844    0.0\n",
       "278846    0.0\n",
       "278851    0.0\n",
       "278854    0.0\n",
       "Name: Beyond Eden, Length: 47994, dtype: float64"
      ]
     },
     "execution_count": 50,
     "metadata": {},
     "output_type": "execute_result"
    }
   ],
   "source": [
    "book_pivot.iloc[241,:]"
   ]
  },
  {
   "cell_type": "code",
   "execution_count": 51,
   "id": "0738a321",
   "metadata": {},
   "outputs": [
    {
     "name": "stdout",
     "output_type": "stream",
     "text": [
      "Index(['Beloved (Plume Contemporary Fiction)', 'Reasonable Doubt',\n",
      "       'The Blooding', 'Ground Zero and Beyond', 'A Secret Affair',\n",
      "       'Blood and Gold (Rice, Anne, Vampire Chronicles.)'],\n",
      "      dtype='object', name='title')\n"
     ]
    }
   ],
   "source": [
    "for i in range(len(suggestion)):\n",
    "    print(book_pivot.index[suggestion[i]])"
   ]
  },
  {
   "cell_type": "code",
   "execution_count": 52,
   "id": "586f5847",
   "metadata": {},
   "outputs": [
    {
     "data": {
      "text/plain": [
       "'1st to Die: A Novel'"
      ]
     },
     "execution_count": 52,
     "metadata": {},
     "output_type": "execute_result"
    }
   ],
   "source": [
    "book_pivot.index[3]"
   ]
  },
  {
   "cell_type": "code",
   "execution_count": 53,
   "id": "5e594c5e",
   "metadata": {},
   "outputs": [
    {
     "data": {
      "text/plain": [
       "10"
      ]
     },
     "execution_count": 53,
     "metadata": {},
     "output_type": "execute_result"
    }
   ],
   "source": [
    "np.where(book_pivot.index == '4 Blondes')[0][0]"
   ]
  },
  {
   "cell_type": "markdown",
   "id": "5f1fa568",
   "metadata": {},
   "source": [
    "# Find URL"
   ]
  },
  {
   "cell_type": "code",
   "execution_count": 54,
   "id": "44a5fb37",
   "metadata": {},
   "outputs": [],
   "source": [
    "# final_rating['title'].value_counts()\n",
    "ids = np.where(final_rating['title'] == \"Harry Potter and the Chamber of Secrets (Book 2)\")[0][0]"
   ]
  },
  {
   "cell_type": "code",
   "execution_count": 55,
   "id": "07d099c3",
   "metadata": {},
   "outputs": [
    {
     "data": {
      "text/plain": [
       "'http://images.amazon.com/images/P/0439064864.01.LZZZZZZZ.jpg'"
      ]
     },
     "execution_count": 55,
     "metadata": {},
     "output_type": "execute_result"
    }
   ],
   "source": [
    "final_rating.iloc[ids]['image_url']"
   ]
  },
  {
   "cell_type": "code",
   "execution_count": 56,
   "id": "53c2952e",
   "metadata": {},
   "outputs": [],
   "source": [
    "book_name = []\n",
    "for book_id in suggestion:\n",
    "    book_name.append(book_pivot.index[book_id])\n",
    "    "
   ]
  },
  {
   "cell_type": "code",
   "execution_count": 57,
   "id": "644c5ba2",
   "metadata": {},
   "outputs": [
    {
     "data": {
      "text/plain": [
       "Index(['Beloved (Plume Contemporary Fiction)', 'Reasonable Doubt',\n",
       "       'The Blooding', 'Ground Zero and Beyond', 'A Secret Affair',\n",
       "       'Blood and Gold (Rice, Anne, Vampire Chronicles.)'],\n",
       "      dtype='object', name='title')"
      ]
     },
     "execution_count": 57,
     "metadata": {},
     "output_type": "execute_result"
    }
   ],
   "source": [
    "book_name[0]"
   ]
  },
  {
   "cell_type": "code",
   "execution_count": 58,
   "id": "2e6e0338",
   "metadata": {},
   "outputs": [],
   "source": [
    "ids_index = []\n",
    "for name in book_name[0]: \n",
    "    ids = np.where(final_rating['title'] == name)[0][0]\n",
    "    ids_index.append(ids)"
   ]
  },
  {
   "cell_type": "code",
   "execution_count": 59,
   "id": "f670a9f0",
   "metadata": {},
   "outputs": [
    {
     "name": "stdout",
     "output_type": "stream",
     "text": [
      "http://images.amazon.com/images/P/0452264464.01.LZZZZZZZ.jpg\n",
      "http://images.amazon.com/images/P/0804107491.01.LZZZZZZZ.jpg\n",
      "http://images.amazon.com/images/P/0553282816.01.LZZZZZZZ.jpg\n",
      "http://images.amazon.com/images/P/1401088945.01.LZZZZZZZ.jpg\n",
      "http://images.amazon.com/images/P/0061012289.01.LZZZZZZZ.jpg\n",
      "http://images.amazon.com/images/P/0345409329.01.LZZZZZZZ.jpg\n"
     ]
    }
   ],
   "source": [
    "for idx in ids_index:\n",
    "    url = final_rating.iloc[idx]['image_url']\n",
    "    print(url)"
   ]
  },
  {
   "cell_type": "code",
   "execution_count": 60,
   "id": "6dabb9ff",
   "metadata": {},
   "outputs": [],
   "source": [
    "import pickle\n",
    "pickle.dump(model,open('Untitled Folder/model.pkl','wb'))\n",
    "pickle.dump(book_name,open('Untitled Folder/book_names.pkl','wb'))\n",
    "pickle.dump(final_rating,open('Untitled Folder/final_rating.pkl','wb'))\n",
    "pickle.dump(book_pivot,open('Untitled Folder/book_pivot.pkl','wb'))"
   ]
  },
  {
   "cell_type": "code",
   "execution_count": 61,
   "id": "f52a8967",
   "metadata": {},
   "outputs": [],
   "source": [
    "def recommend_book(book_name):\n",
    "    book_id = np.where(book_pivot.index == book_name)[0][0]\n",
    "    distance, suggestion = model.kneighbors(book_pivot.iloc[book_id,:].values.reshape(1,-1), n_neighbors=6 )\n",
    "    \n",
    "    for i in range(len(suggestion)):\n",
    "            books = book_pivot.index[suggestion[i]]\n",
    "            for j in books:\n",
    "                if j == book_name:\n",
    "                    print(f\"You searched '{book_name}'\\n\")\n",
    "                    print(\"The suggestion books are: \\n\")\n",
    "                else:\n",
    "                    print(j)"
   ]
  },
  {
   "cell_type": "markdown",
   "id": "653bacda",
   "metadata": {},
   "source": [
    "# Training Model"
   ]
  },
  {
   "cell_type": "markdown",
   "id": "a39c555a",
   "metadata": {},
   "source": [
    "book_name = \"Harry Potter and the Chamber of Secrets (Book 2)\"\n",
    "recommend_book(book_name)"
   ]
  },
  {
   "cell_type": "code",
   "execution_count": 63,
   "id": "6b7b3ea8",
   "metadata": {},
   "outputs": [
    {
     "name": "stdout",
     "output_type": "stream",
     "text": [
      "You searched 'The Cradle Will Fall'\n",
      "\n",
      "The suggestion books are: \n",
      "\n",
      "A Secret Affair\n",
      "Ground Zero and Beyond\n",
      "Night Moves (Tom Clancy's Net Force, No. 3)\n",
      "Now and Forever\n",
      "The Blooding\n"
     ]
    }
   ],
   "source": [
    "book_name = \"The Cradle Will Fall\"\n",
    "recommend_book(book_name)"
   ]
  },
  {
   "cell_type": "markdown",
   "id": "ad6db24a",
   "metadata": {},
   "source": [
    "# cosine similiarity"
   ]
  },
  {
   "cell_type": "code",
   "execution_count": 66,
   "id": "f403eebd",
   "metadata": {},
   "outputs": [],
   "source": [
    "from sklearn.metrics.pairwise import cosine_similarity"
   ]
  },
  {
   "cell_type": "code",
   "execution_count": 67,
   "id": "34bfa2df",
   "metadata": {},
   "outputs": [],
   "source": [
    "similarity_scores = cosine_similarity(book_pivot)"
   ]
  },
  {
   "cell_type": "code",
   "execution_count": 68,
   "id": "f461445a",
   "metadata": {},
   "outputs": [
    {
     "data": {
      "text/plain": [
       "(2444, 2444)"
      ]
     },
     "execution_count": 68,
     "metadata": {},
     "output_type": "execute_result"
    }
   ],
   "source": [
    "similarity_scores.shape"
   ]
  },
  {
   "cell_type": "code",
   "execution_count": 75,
   "id": "5fd6deef",
   "metadata": {},
   "outputs": [],
   "source": [
    "def recommend(book_name):\n",
    "    # index fetch\n",
    "    index = np.where(book_pivot.index==book_name)[0][0]\n",
    "    similar_items = sorted(list(enumerate(similarity_scores[index])),key=lambda x:x[1],reverse=True)[1:5]\n",
    "    \n",
    "    data = []\n",
    "    for i in similar_items:\n",
    "        item = []\n",
    "        temp_df = books[books['title'] == book_pivot.index[i[0]]]\n",
    "        item.extend(list(temp_df.drop_duplicates('title')['title'].values))\n",
    "        item.extend(list(temp_df.drop_duplicates('title')['author'].values))\n",
    "        item.extend(list(temp_df.drop_duplicates('title')['image_url'].values))\n",
    "        \n",
    "        data.append(item)\n",
    "    \n",
    "    return data\n"
   ]
  },
  {
   "cell_type": "code",
   "execution_count": 76,
   "id": "4eb117cf",
   "metadata": {},
   "outputs": [
    {
     "data": {
      "text/plain": [
       "[['Animal Farm',\n",
       "  'George Orwell',\n",
       "  'http://images.amazon.com/images/P/0451526341.01.LZZZZZZZ.jpg'],\n",
       " ['Brave New World',\n",
       "  'Aldous Huxley',\n",
       "  'http://images.amazon.com/images/P/0060809833.01.LZZZZZZZ.jpg'],\n",
       " ['American Psycho (Vintage Contemporaries)',\n",
       "  'Bret Easton Ellis',\n",
       "  'http://images.amazon.com/images/P/0679735771.01.LZZZZZZZ.jpg'],\n",
       " ['Lying Awake',\n",
       "  'Mark Salzman',\n",
       "  'http://images.amazon.com/images/P/0375406328.01.LZZZZZZZ.jpg']]"
      ]
     },
     "execution_count": 76,
     "metadata": {},
     "output_type": "execute_result"
    }
   ],
   "source": [
    "recommend('1984')"
   ]
  },
  {
   "cell_type": "code",
   "execution_count": null,
   "id": "4f1c6cf2",
   "metadata": {},
   "outputs": [],
   "source": []
  }
 ],
 "metadata": {
  "kernelspec": {
   "display_name": "Python 3 (ipykernel)",
   "language": "python",
   "name": "python3"
  },
  "language_info": {
   "codemirror_mode": {
    "name": "ipython",
    "version": 3
   },
   "file_extension": ".py",
   "mimetype": "text/x-python",
   "name": "python",
   "nbconvert_exporter": "python",
   "pygments_lexer": "ipython3",
   "version": "3.9.12"
  }
 },
 "nbformat": 4,
 "nbformat_minor": 5
}
